{
 "cells": [
  {
   "cell_type": "code",
   "execution_count": 1,
   "id": "560b7386",
   "metadata": {
    "scrolled": true
   },
   "outputs": [
    {
     "name": "stdout",
     "output_type": "stream",
     "text": [
      "Requirement already satisfied: transformers in c:\\users\\liber\\anaconda3\\envs\\fivecart\\lib\\site-packages (4.33.2)\n",
      "Requirement already satisfied: filelock in c:\\users\\liber\\anaconda3\\envs\\fivecart\\lib\\site-packages (from transformers) (3.12.4)\n",
      "Requirement already satisfied: huggingface-hub<1.0,>=0.15.1 in c:\\users\\liber\\anaconda3\\envs\\fivecart\\lib\\site-packages (from transformers) (0.17.2)\n",
      "Requirement already satisfied: numpy>=1.17 in c:\\users\\liber\\anaconda3\\envs\\fivecart\\lib\\site-packages (from transformers) (1.24.4)\n",
      "Requirement already satisfied: packaging>=20.0 in c:\\users\\liber\\anaconda3\\envs\\fivecart\\lib\\site-packages (from transformers) (23.1)\n",
      "Requirement already satisfied: pyyaml>=5.1 in c:\\users\\liber\\anaconda3\\envs\\fivecart\\lib\\site-packages (from transformers) (6.0.1)\n",
      "Requirement already satisfied: regex!=2019.12.17 in c:\\users\\liber\\anaconda3\\envs\\fivecart\\lib\\site-packages (from transformers) (2023.8.8)\n",
      "Requirement already satisfied: requests in c:\\users\\liber\\anaconda3\\envs\\fivecart\\lib\\site-packages (from transformers) (2.31.0)\n",
      "Requirement already satisfied: tokenizers!=0.11.3,<0.14,>=0.11.1 in c:\\users\\liber\\anaconda3\\envs\\fivecart\\lib\\site-packages (from transformers) (0.13.3)\n",
      "Requirement already satisfied: safetensors>=0.3.1 in c:\\users\\liber\\anaconda3\\envs\\fivecart\\lib\\site-packages (from transformers) (0.3.3)\n",
      "Requirement already satisfied: tqdm>=4.27 in c:\\users\\liber\\anaconda3\\envs\\fivecart\\lib\\site-packages (from transformers) (4.66.1)\n",
      "Requirement already satisfied: fsspec in c:\\users\\liber\\anaconda3\\envs\\fivecart\\lib\\site-packages (from huggingface-hub<1.0,>=0.15.1->transformers) (2023.9.2)\n",
      "Requirement already satisfied: typing-extensions>=3.7.4.3 in c:\\users\\liber\\anaconda3\\envs\\fivecart\\lib\\site-packages (from huggingface-hub<1.0,>=0.15.1->transformers) (4.7.1)\n",
      "Requirement already satisfied: colorama in c:\\users\\liber\\anaconda3\\envs\\fivecart\\lib\\site-packages (from tqdm>=4.27->transformers) (0.4.6)\n",
      "Requirement already satisfied: charset-normalizer<4,>=2 in c:\\users\\liber\\anaconda3\\envs\\fivecart\\lib\\site-packages (from requests->transformers) (3.2.0)\n",
      "Requirement already satisfied: idna<4,>=2.5 in c:\\users\\liber\\anaconda3\\envs\\fivecart\\lib\\site-packages (from requests->transformers) (3.4)\n",
      "Requirement already satisfied: urllib3<3,>=1.21.1 in c:\\users\\liber\\appdata\\roaming\\python\\python38\\site-packages (from requests->transformers) (1.26.16)\n",
      "Requirement already satisfied: certifi>=2017.4.17 in c:\\users\\liber\\anaconda3\\envs\\fivecart\\lib\\site-packages (from requests->transformers) (2023.7.22)\n",
      "Requirement already satisfied: sentencepiece in c:\\users\\liber\\anaconda3\\envs\\fivecart\\lib\\site-packages (0.1.99)\n",
      "Requirement already satisfied: torch in c:\\users\\liber\\appdata\\roaming\\python\\python38\\site-packages (2.0.0)\n",
      "Requirement already satisfied: filelock in c:\\users\\liber\\anaconda3\\envs\\fivecart\\lib\\site-packages (from torch) (3.12.4)\n",
      "Requirement already satisfied: typing-extensions in c:\\users\\liber\\anaconda3\\envs\\fivecart\\lib\\site-packages (from torch) (4.7.1)\n",
      "Requirement already satisfied: sympy in c:\\users\\liber\\anaconda3\\envs\\fivecart\\lib\\site-packages (from torch) (1.12)\n",
      "Requirement already satisfied: networkx in c:\\users\\liber\\anaconda3\\envs\\fivecart\\lib\\site-packages (from torch) (3.1)\n",
      "Requirement already satisfied: jinja2 in c:\\users\\liber\\anaconda3\\envs\\fivecart\\lib\\site-packages (from torch) (3.1.2)\n",
      "Requirement already satisfied: MarkupSafe>=2.0 in c:\\users\\liber\\anaconda3\\envs\\fivecart\\lib\\site-packages (from jinja2->torch) (2.1.1)\n",
      "Requirement already satisfied: mpmath>=0.19 in c:\\users\\liber\\anaconda3\\envs\\fivecart\\lib\\site-packages (from sympy->torch) (1.3.0)\n"
     ]
    }
   ],
   "source": [
    "!pip install transformers\n",
    "!pip install sentencepiece\n",
    "!pip install torch"
   ]
  },
  {
   "cell_type": "code",
   "execution_count": 2,
   "id": "ac6c1fe4",
   "metadata": {},
   "outputs": [
    {
     "data": {
      "application/vnd.jupyter.widget-view+json": {
       "model_id": "55aed177204c4e5bb7f56f513e42fe8d",
       "version_major": 2,
       "version_minor": 0
      },
      "text/plain": [
       "Downloading (…)okenizer_config.json:   0%|          | 0.00/375 [00:00<?, ?B/s]"
      ]
     },
     "metadata": {},
     "output_type": "display_data"
    },
    {
     "name": "stderr",
     "output_type": "stream",
     "text": [
      "C:\\Users\\liber\\anaconda3\\lib\\site-packages\\huggingface_hub\\file_download.py:133: UserWarning: `huggingface_hub` cache-system uses symlinks by default to efficiently store duplicated files but your machine does not support them in C:\\Users\\liber\\.cache\\huggingface\\hub. Caching files will still work but in a degraded version that might require more space on your disk. This warning can be disabled by setting the `HF_HUB_DISABLE_SYMLINKS_WARNING` environment variable. For more details, see https://huggingface.co/docs/huggingface_hub/how-to-cache#limitations.\n",
      "To support symlinks on Windows, you either need to activate Developer Mode or to run Python as an administrator. In order to see activate developer mode, see this article: https://docs.microsoft.com/en-us/windows/apps/get-started/enable-your-device-for-development\n",
      "  warnings.warn(message)\n"
     ]
    },
    {
     "data": {
      "application/vnd.jupyter.widget-view+json": {
       "model_id": "ca731523b5b444edb2534bf4faf3844c",
       "version_major": 2,
       "version_minor": 0
      },
      "text/plain": [
       "Downloading (…)solve/main/vocab.txt:   0%|          | 0.00/248k [00:00<?, ?B/s]"
      ]
     },
     "metadata": {},
     "output_type": "display_data"
    },
    {
     "data": {
      "application/vnd.jupyter.widget-view+json": {
       "model_id": "f5e147a795c3498b9fd6341a9423a3d7",
       "version_major": 2,
       "version_minor": 0
      },
      "text/plain": [
       "Downloading (…)/main/tokenizer.json:   0%|          | 0.00/752k [00:00<?, ?B/s]"
      ]
     },
     "metadata": {},
     "output_type": "display_data"
    },
    {
     "data": {
      "application/vnd.jupyter.widget-view+json": {
       "model_id": "30e322fb83d349debe631e885f4697a2",
       "version_major": 2,
       "version_minor": 0
      },
      "text/plain": [
       "Downloading (…)cial_tokens_map.json:   0%|          | 0.00/173 [00:00<?, ?B/s]"
      ]
     },
     "metadata": {},
     "output_type": "display_data"
    },
    {
     "data": {
      "application/vnd.jupyter.widget-view+json": {
       "model_id": "36a98c4859bb41b1a3e8df4fccd2de8d",
       "version_major": 2,
       "version_minor": 0
      },
      "text/plain": [
       "Downloading (…)lve/main/config.json:   0%|          | 0.00/546 [00:00<?, ?B/s]"
      ]
     },
     "metadata": {},
     "output_type": "display_data"
    },
    {
     "data": {
      "application/vnd.jupyter.widget-view+json": {
       "model_id": "4f916b057cf34f75acf5f5b02e95320d",
       "version_major": 2,
       "version_minor": 0
      },
      "text/plain": [
       "Downloading model.safetensors:   0%|          | 0.00/443M [00:00<?, ?B/s]"
      ]
     },
     "metadata": {},
     "output_type": "display_data"
    },
    {
     "name": "stderr",
     "output_type": "stream",
     "text": [
      "Some weights of RobertaModel were not initialized from the model checkpoint at klue/roberta-base and are newly initialized: ['roberta.pooler.dense.bias', 'roberta.pooler.dense.weight']\n",
      "You should probably TRAIN this model on a down-stream task to be able to use it for predictions and inference.\n"
     ]
    }
   ],
   "source": [
    "from transformers import AutoTokenizer, AutoModel\n",
    "\n",
    "model_name = \"klue/roberta-base\"\n",
    "tokenizer = AutoTokenizer.from_pretrained(model_name)\n",
    "model = AutoModel.from_pretrained(model_name)"
   ]
  },
  {
   "cell_type": "code",
   "execution_count": 152,
   "id": "647c0683",
   "metadata": {},
   "outputs": [
    {
     "data": {
      "text/plain": [
       "['T_destination',\n",
       " '__annotations__',\n",
       " '__call__',\n",
       " '__class__',\n",
       " '__delattr__',\n",
       " '__dict__',\n",
       " '__dir__',\n",
       " '__doc__',\n",
       " '__eq__',\n",
       " '__format__',\n",
       " '__ge__',\n",
       " '__getattr__',\n",
       " '__getattribute__',\n",
       " '__gt__',\n",
       " '__hash__',\n",
       " '__init__',\n",
       " '__init_subclass__',\n",
       " '__le__',\n",
       " '__lt__',\n",
       " '__module__',\n",
       " '__ne__',\n",
       " '__new__',\n",
       " '__reduce__',\n",
       " '__reduce_ex__',\n",
       " '__repr__',\n",
       " '__setattr__',\n",
       " '__setstate__',\n",
       " '__sizeof__',\n",
       " '__str__',\n",
       " '__subclasshook__',\n",
       " '__weakref__',\n",
       " '_apply',\n",
       " '_auto_class',\n",
       " '_backward_compatibility_gradient_checkpointing',\n",
       " '_backward_hooks',\n",
       " '_buffers',\n",
       " '_call_impl',\n",
       " '_convert_head_mask_to_5d',\n",
       " '_create_repo',\n",
       " '_expand_inputs_for_generation',\n",
       " '_extract_past_from_model_output',\n",
       " '_forward_hooks',\n",
       " '_forward_pre_hooks',\n",
       " '_from_config',\n",
       " '_get_backward_hooks',\n",
       " '_get_decoder_start_token_id',\n",
       " '_get_files_timestamps',\n",
       " '_get_generation_mode',\n",
       " '_get_logits_processor',\n",
       " '_get_logits_warper',\n",
       " '_get_name',\n",
       " '_get_resized_embeddings',\n",
       " '_get_resized_lm_head',\n",
       " '_get_stopping_criteria',\n",
       " '_hook_rss_memory_post_forward',\n",
       " '_hook_rss_memory_pre_forward',\n",
       " '_init_weights',\n",
       " '_initialize_weights',\n",
       " '_is_full_backward_hook',\n",
       " '_is_hf_initialized',\n",
       " '_keep_in_fp32_modules',\n",
       " '_keys_to_ignore_on_load_missing',\n",
       " '_keys_to_ignore_on_load_unexpected',\n",
       " '_keys_to_ignore_on_save',\n",
       " '_load_from_state_dict',\n",
       " '_load_pretrained_model',\n",
       " '_load_pretrained_model_low_mem',\n",
       " '_load_state_dict_pre_hooks',\n",
       " '_maybe_initialize_input_ids_for_generation',\n",
       " '_maybe_warn_non_full_backward_hook',\n",
       " '_merge_criteria_processor_list',\n",
       " '_modules',\n",
       " '_named_members',\n",
       " '_no_split_modules',\n",
       " '_non_persistent_buffers_set',\n",
       " '_parameters',\n",
       " '_prepare_attention_mask_for_generation',\n",
       " '_prepare_decoder_input_ids_for_generation',\n",
       " '_prepare_encoder_decoder_kwargs_for_generation',\n",
       " '_prepare_model_inputs',\n",
       " '_prune_heads',\n",
       " '_register_load_state_dict_pre_hook',\n",
       " '_register_state_dict_hook',\n",
       " '_reorder_cache',\n",
       " '_replicate_for_data_parallel',\n",
       " '_resize_token_embeddings',\n",
       " '_save_to_state_dict',\n",
       " '_set_default_torch_dtype',\n",
       " '_set_gradient_checkpointing',\n",
       " '_skip_keys_device_placement',\n",
       " '_slow_forward',\n",
       " '_state_dict_hooks',\n",
       " '_tie_encoder_decoder_weights',\n",
       " '_tie_or_clone_weights',\n",
       " '_tied_weights_keys',\n",
       " '_update_model_kwargs_for_generation',\n",
       " '_upload_modified_files',\n",
       " '_validate_generated_length',\n",
       " '_validate_model_class',\n",
       " '_validate_model_kwargs',\n",
       " '_version',\n",
       " 'add_memory_hooks',\n",
       " 'add_module',\n",
       " 'apply',\n",
       " 'assisted_decoding',\n",
       " 'base_model',\n",
       " 'base_model_prefix',\n",
       " 'beam_sample',\n",
       " 'beam_search',\n",
       " 'bfloat16',\n",
       " 'buffers',\n",
       " 'can_generate',\n",
       " 'children',\n",
       " 'compute_transition_scores',\n",
       " 'config',\n",
       " 'config_class',\n",
       " 'constrained_beam_search',\n",
       " 'contrastive_search',\n",
       " 'cpu',\n",
       " 'create_extended_attention_mask_for_decoder',\n",
       " 'cuda',\n",
       " 'device',\n",
       " 'disable_input_require_grads',\n",
       " 'double',\n",
       " 'dtype',\n",
       " 'dummy_inputs',\n",
       " 'dump_patches',\n",
       " 'embeddings',\n",
       " 'enable_input_require_grads',\n",
       " 'encoder',\n",
       " 'estimate_tokens',\n",
       " 'eval',\n",
       " 'extra_repr',\n",
       " 'float',\n",
       " 'floating_point_ops',\n",
       " 'forward',\n",
       " 'framework',\n",
       " 'from_pretrained',\n",
       " 'generate',\n",
       " 'generation_config',\n",
       " 'get_buffer',\n",
       " 'get_extended_attention_mask',\n",
       " 'get_extra_state',\n",
       " 'get_head_mask',\n",
       " 'get_input_embeddings',\n",
       " 'get_memory_footprint',\n",
       " 'get_output_embeddings',\n",
       " 'get_parameter',\n",
       " 'get_position_embeddings',\n",
       " 'get_submodule',\n",
       " 'gradient_checkpointing_disable',\n",
       " 'gradient_checkpointing_enable',\n",
       " 'greedy_search',\n",
       " 'group_beam_search',\n",
       " 'half',\n",
       " 'init_weights',\n",
       " 'invert_attention_mask',\n",
       " 'is_gradient_checkpointing',\n",
       " 'is_loaded_in_4bit',\n",
       " 'is_loaded_in_8bit',\n",
       " 'is_parallelizable',\n",
       " 'load_state_dict',\n",
       " 'main_input_name',\n",
       " 'modules',\n",
       " 'name_or_path',\n",
       " 'named_buffers',\n",
       " 'named_children',\n",
       " 'named_modules',\n",
       " 'named_parameters',\n",
       " 'num_parameters',\n",
       " 'parameters',\n",
       " 'pooler',\n",
       " 'post_init',\n",
       " 'prepare_inputs_for_generation',\n",
       " 'prune_heads',\n",
       " 'push_to_hub',\n",
       " 'register_backward_hook',\n",
       " 'register_buffer',\n",
       " 'register_for_auto_class',\n",
       " 'register_forward_hook',\n",
       " 'register_forward_pre_hook',\n",
       " 'register_full_backward_hook',\n",
       " 'register_module',\n",
       " 'register_parameter',\n",
       " 'requires_grad_',\n",
       " 'reset_memory_hooks_state',\n",
       " 'resize_position_embeddings',\n",
       " 'resize_token_embeddings',\n",
       " 'retrieve_modules_from_names',\n",
       " 'reverse_bettertransformer',\n",
       " 'sample',\n",
       " 'save_pretrained',\n",
       " 'set_extra_state',\n",
       " 'set_input_embeddings',\n",
       " 'share_memory',\n",
       " 'state_dict',\n",
       " 'supports_gradient_checkpointing',\n",
       " 'tie_weights',\n",
       " 'to',\n",
       " 'to_bettertransformer',\n",
       " 'to_empty',\n",
       " 'train',\n",
       " 'training',\n",
       " 'type',\n",
       " 'warn_if_padding_and_no_attention_mask',\n",
       " 'warnings_issued',\n",
       " 'xpu',\n",
       " 'zero_grad']"
      ]
     },
     "execution_count": 152,
     "metadata": {},
     "output_type": "execute_result"
    }
   ],
   "source": [
    "dir(model)"
   ]
  },
  {
   "cell_type": "code",
   "execution_count": 4,
   "id": "d16cfc18",
   "metadata": {
    "scrolled": true
   },
   "outputs": [
    {
     "name": "stdout",
     "output_type": "stream",
     "text": [
      "Requirement already satisfied: torch in c:\\users\\liber\\anaconda3\\lib\\site-packages (1.11.0)\n",
      "Requirement already satisfied: typing-extensions in c:\\users\\liber\\anaconda3\\lib\\site-packages (from torch) (4.7.1)\n"
     ]
    }
   ],
   "source": [
    "!pip install torch"
   ]
  },
  {
   "cell_type": "code",
   "execution_count": 6,
   "id": "25eb2c35",
   "metadata": {},
   "outputs": [],
   "source": [
    "import torch"
   ]
  },
  {
   "cell_type": "code",
   "execution_count": 91,
   "id": "6373dded",
   "metadata": {},
   "outputs": [],
   "source": [
    "document = \"한국의 수도는 서울이며, 대표적인 관광지로는 경복궁, 덕수궁, 남산 타워 등이 있습니다. 한국은 한반도에 위치하며, 서울은 대한민국의 수도입니다.\"\n",
    "\n",
    "# 문서를 토큰화하고 KLUE RoBERTa 모델에 입력할 형식으로 변환\n",
    "tokens = tokenizer.tokenize(tokenizer.decode(tokenizer.encode(document)))\n",
    "input_ids = tokenizer.convert_tokens_to_ids(tokens)\n",
    "input_ids = torch.tensor(input_ids).unsqueeze(0)  # 배치 차원 추가\n",
    "\n",
    "# KLUE RoBERTa 모델을 사용하여 키워드 추출\n",
    "with torch.no_grad():\n",
    "    outputs = model(input_ids)\n",
    "\n",
    "# 출력을 키워드로 변환\n",
    "# keyword_indices = torch.topk(outputs.logits[0], k=5).indices  # 상위 5개 키워드 추출\n",
    "# keywords = [tokenizer.decode(index) for index in keyword_indices]\n",
    "\n",
    "# print(\"추출된 키워드:\", keywords)\n"
   ]
  },
  {
   "cell_type": "code",
   "execution_count": 101,
   "id": "cde246b6",
   "metadata": {},
   "outputs": [
    {
     "data": {
      "text/plain": [
       "42"
      ]
     },
     "execution_count": 101,
     "metadata": {},
     "output_type": "execute_result"
    }
   ],
   "source": [
    "len(tokens)"
   ]
  },
  {
   "cell_type": "code",
   "execution_count": 102,
   "id": "ad348596",
   "metadata": {
    "scrolled": true
   },
   "outputs": [
    {
     "data": {
      "text/plain": [
       "tensor([[ 0.0919, -0.6115, -0.1571,  ..., -0.1492, -0.1905,  0.1406],\n",
       "        [-0.6565, -0.2256, -0.2437,  ...,  0.0889, -0.1331,  0.0465],\n",
       "        [-0.4368, -0.5798,  0.2262,  ..., -0.4706, -0.2786, -0.2569],\n",
       "        ...,\n",
       "        [-0.2876, -0.5503, -0.1821,  ..., -0.7832, -0.0448, -0.2131],\n",
       "        [-0.2211, -0.1324,  0.1354,  ..., -0.2847, -0.1898, -0.2840],\n",
       "        [ 0.0912, -0.6113, -0.1571,  ..., -0.1497, -0.1902,  0.1407]])"
      ]
     },
     "execution_count": 102,
     "metadata": {},
     "output_type": "execute_result"
    }
   ],
   "source": [
    "outputs.last_hidden_state[0]"
   ]
  },
  {
   "cell_type": "code",
   "execution_count": 39,
   "id": "eb6eca49",
   "metadata": {},
   "outputs": [],
   "source": [
    "from kiwipiepy import Kiwi\n",
    "kiwi = Kiwi()"
   ]
  },
  {
   "cell_type": "code",
   "execution_count": 40,
   "id": "c3ec60e8",
   "metadata": {
    "scrolled": true
   },
   "outputs": [
    {
     "data": {
      "text/plain": [
       "[([Token(form='한국', tag='NNP', start=0, len=2),\n",
       "   Token(form='의', tag='JKG', start=2, len=1),\n",
       "   Token(form='수도', tag='NNG', start=4, len=2),\n",
       "   Token(form='는', tag='JX', start=6, len=1),\n",
       "   Token(form='서울', tag='NNP', start=8, len=2),\n",
       "   Token(form='이', tag='VCP', start=10, len=1),\n",
       "   Token(form='며', tag='EC', start=11, len=1),\n",
       "   Token(form=',', tag='SP', start=12, len=1),\n",
       "   Token(form='대표', tag='NNG', start=14, len=2),\n",
       "   Token(form='적', tag='XSN', start=16, len=1),\n",
       "   Token(form='이', tag='VCP', start=17, len=1),\n",
       "   Token(form='ᆫ', tag='ETM', start=17, len=1),\n",
       "   Token(form='관광지', tag='NNG', start=19, len=3),\n",
       "   Token(form='로', tag='JKB', start=22, len=1),\n",
       "   Token(form='는', tag='JX', start=23, len=1),\n",
       "   Token(form='경복궁', tag='NNP', start=25, len=3),\n",
       "   Token(form=',', tag='SP', start=28, len=1),\n",
       "   Token(form='덕수궁', tag='NNP', start=30, len=3),\n",
       "   Token(form=',', tag='SP', start=33, len=1),\n",
       "   Token(form='남산', tag='NNP', start=35, len=2),\n",
       "   Token(form='타워', tag='NNG', start=38, len=2),\n",
       "   Token(form='등', tag='NNB', start=41, len=1),\n",
       "   Token(form='이', tag='JKS', start=42, len=1),\n",
       "   Token(form='있', tag='VV', start=44, len=1),\n",
       "   Token(form='습니다', tag='EF', start=45, len=3),\n",
       "   Token(form='.', tag='SF', start=48, len=1),\n",
       "   Token(form='한국', tag='NNP', start=50, len=2),\n",
       "   Token(form='은', tag='JX', start=52, len=1),\n",
       "   Token(form='한반도', tag='NNP', start=54, len=3),\n",
       "   Token(form='에', tag='JKB', start=57, len=1),\n",
       "   Token(form='위치', tag='NNG', start=59, len=2),\n",
       "   Token(form='하', tag='XSV', start=61, len=1),\n",
       "   Token(form='며', tag='EC', start=62, len=1),\n",
       "   Token(form=',', tag='SP', start=63, len=1),\n",
       "   Token(form='서울', tag='NNP', start=65, len=2),\n",
       "   Token(form='은', tag='JX', start=67, len=1),\n",
       "   Token(form='대한민국', tag='NNP', start=69, len=4),\n",
       "   Token(form='의', tag='JKG', start=73, len=1),\n",
       "   Token(form='수도', tag='NNG', start=75, len=2),\n",
       "   Token(form='이', tag='VCP', start=77, len=1),\n",
       "   Token(form='ᆸ니다', tag='EF', start=77, len=3),\n",
       "   Token(form='.', tag='SF', start=80, len=1)],\n",
       "  -188.0421600341797)]"
      ]
     },
     "execution_count": 40,
     "metadata": {},
     "output_type": "execute_result"
    }
   ],
   "source": [
    "result = kiwi.analyze(document)\n",
    "result"
   ]
  },
  {
   "cell_type": "code",
   "execution_count": 107,
   "id": "92552496",
   "metadata": {},
   "outputs": [
    {
     "data": {
      "text/plain": [
       "tensor([[ 0.0919, -0.6115, -0.1571,  ..., -0.1492, -0.1905,  0.1406],\n",
       "        [-0.6565, -0.2256, -0.2437,  ...,  0.0889, -0.1331,  0.0465],\n",
       "        [-0.4368, -0.5798,  0.2262,  ..., -0.4706, -0.2786, -0.2569],\n",
       "        ...,\n",
       "        [-0.2876, -0.5503, -0.1821,  ..., -0.7832, -0.0448, -0.2131],\n",
       "        [-0.2211, -0.1324,  0.1354,  ..., -0.2847, -0.1898, -0.2840],\n",
       "        [ 0.0912, -0.6113, -0.1571,  ..., -0.1497, -0.1902,  0.1407]])"
      ]
     },
     "execution_count": 107,
     "metadata": {},
     "output_type": "execute_result"
    }
   ],
   "source": [
    "tokens\n",
    "hidden_states[0]"
   ]
  },
  {
   "cell_type": "code",
   "execution_count": 153,
   "id": "c865c097",
   "metadata": {
    "scrolled": true
   },
   "outputs": [],
   "source": [
    "document = \"한국의 수도는 서울이며, 대표적인 관광지로는 경복궁, 덕수궁, 남산 타워 등이 있습니다. 한국은 한반도에 위치하며, 서울은 대한민국의 수도입니다.\"\n",
    "\n",
    "# 문서를 토큰화하고 KLUE RoBERTa 모델에 입력할 형식으로 변환\n",
    "# tokens = tokenizer.tokenize(tokenizer.decode(tokenizer.encode(document)))\n",
    "tokens = tokenizer.tokenize(tokenizer.decode(tokenizer.encode(document)))\n",
    "# tokens = tokenizer.tokenize(document)\n",
    "input_ids = tokenizer.convert_tokens_to_ids(tokens)\n",
    "input_ids = torch.tensor(input_ids).unsqueeze(0)  # 배치 차원 추가\n",
    "\n",
    "# KLUE RoBERTa 모델을 사용하여 키워드 추출\n",
    "with torch.no_grad():\n",
    "    outputs = model(input_ids)\n",
    "\n",
    "# 출력에서 특성 벡터를 추출\n",
    "document_embedding = outputs.last_hidden_state.mean(dim=1)\n",
    "# hidden_states = outputs.last_hidden_state  # 또는 다른 특성 벡터를 선택할 수 있음\n",
    "\n",
    "# 특성 벡터를 이용하여 키워드 추출\n",
    "# keyword_indices = hidden_states.sum(dim=1).argsort(descending=True)[:5]  # 예: 특성 벡터의 합을 계산하고 상위 5개 키워드 추출\n",
    "# keyword_indices = hidden_states[0].sum(dim=1).argsort(descending=True)[:5]\n",
    "\n",
    "# 추출된 키워드를 토큰으로 디코딩\n",
    "# keywords = [tokenizer.decode(index) for index in keyword_indices]\n",
    "\n",
    "# print(\"추출된 키워드:\", keywords)\n"
   ]
  },
  {
   "cell_type": "code",
   "execution_count": 159,
   "id": "84710d48",
   "metadata": {
    "scrolled": true
   },
   "outputs": [
    {
     "data": {
      "text/plain": [
       "tensor([[-2.7157e-01, -3.3834e-01, -7.7369e-02,  8.1869e-02, -9.9433e-02,\n",
       "         -9.7849e-02, -2.9301e-01, -8.0296e-02, -1.1782e-01, -1.0657e-01,\n",
       "         -3.1969e-01, -2.9930e-02, -1.4570e-01,  7.7773e-02,  2.4389e-01,\n",
       "          1.1578e-01, -5.1697e-02, -2.9688e-01, -1.0575e-01, -1.0342e+00,\n",
       "         -2.5812e-01, -1.3786e-01,  2.5015e-01,  1.3543e-02, -7.4338e-02,\n",
       "         -6.4721e-03, -8.4474e-03, -7.8043e-02,  1.4895e-02,  4.5210e-02,\n",
       "         -3.6226e-01, -2.1439e-01,  1.5156e-01,  4.3437e-01,  1.2388e+00,\n",
       "          8.3585e-02,  5.8983e-04, -9.5695e-02,  2.2734e-01, -1.1294e-01,\n",
       "         -8.9996e-02, -2.7805e-01,  4.3254e-01, -4.5504e-02,  4.2163e-01,\n",
       "         -2.5948e-01,  3.3295e-01,  2.4800e-01,  2.9312e-01, -1.6788e-01,\n",
       "          3.1843e-01, -2.3574e-01,  2.4051e-01, -8.1318e-01, -1.4138e-01,\n",
       "         -7.1206e-03, -9.1241e-03,  2.7616e-01, -1.0786e-01, -1.4901e-01,\n",
       "          2.7782e-01, -4.7767e-02,  1.9005e-01, -1.7243e-01, -2.7055e-01,\n",
       "          1.8737e-02, -1.4951e-01, -1.3432e-01,  1.1458e-01,  1.9984e-01,\n",
       "         -6.1132e-02, -1.4095e-01,  8.2150e-01,  2.2364e-01,  1.9525e-01,\n",
       "         -1.2541e-01, -2.2975e-01,  1.3354e-01,  1.0703e-01, -1.3034e-01,\n",
       "          8.3076e-03,  6.7303e-02, -2.7834e-01, -3.4616e-01, -3.4528e-01,\n",
       "          5.3821e-02,  1.5849e-01,  1.5879e-01,  6.0333e-02,  1.5940e-01,\n",
       "         -5.7918e-01, -1.6792e-01, -2.1441e-01,  1.5931e-01,  4.1862e-01,\n",
       "         -1.2411e-01, -1.5887e-01, -1.1303e-01, -1.2532e-01, -9.0451e-03,\n",
       "          5.0333e-01,  2.2763e-01,  1.9008e-02,  2.4794e-01, -2.9620e-01,\n",
       "         -3.7345e-01, -1.6935e-02, -1.8562e-01, -2.1332e-01,  1.1662e-01,\n",
       "         -2.3950e-02,  1.2569e-01, -1.6970e-01, -2.4703e-02,  5.3075e-01,\n",
       "          2.2233e-01, -2.8908e-02,  3.8742e-01,  2.9947e-03, -2.2153e-01,\n",
       "          3.1008e-01,  4.5621e-01, -2.4275e-01, -2.7784e-01,  3.9694e-02,\n",
       "         -2.0764e-01, -1.3437e-01,  3.5963e-02,  2.5152e-01, -1.6427e-02,\n",
       "          1.6439e-01, -5.2476e-02, -4.0569e-01, -1.0622e-01,  4.4732e-01,\n",
       "          2.6573e-01,  9.4154e-02, -1.0873e-01, -2.5058e-01, -1.0347e-01,\n",
       "          3.1065e-02,  2.5702e-01,  2.6047e-01, -6.9613e-01,  1.1201e-01,\n",
       "          2.5505e-01,  6.0443e-02, -1.8144e-01, -2.3170e-01, -3.4127e-01,\n",
       "         -1.6463e-01, -4.0303e-01,  9.2318e-03,  8.9132e-02, -2.3891e-01,\n",
       "          2.9860e-01,  4.1864e-01,  2.9206e-01, -7.0534e-02, -2.6096e+00,\n",
       "         -5.9024e-01,  7.4963e-01, -2.9506e-01,  2.2896e-01,  1.2783e-02,\n",
       "          1.5835e-01,  9.4537e-02,  1.9915e-01, -3.4885e-01, -3.5178e-01,\n",
       "         -3.3687e-01,  4.2038e-02, -7.4181e-02, -3.5152e-01,  4.3244e-01,\n",
       "         -2.1352e-01, -5.1129e-02, -2.2486e-01,  9.5781e-02,  2.8894e-01,\n",
       "          7.7841e-02,  2.2148e-01,  4.4719e-03,  1.2999e-01, -2.7708e-02,\n",
       "          8.2417e-02,  1.5900e-01,  2.4650e-01, -1.1811e-01,  3.5045e-01,\n",
       "         -1.0190e-01, -2.8482e-01, -2.0456e-01, -2.3153e-01,  1.4466e-01,\n",
       "         -9.8656e-02, -2.2060e-01,  3.4864e-01, -9.5407e-03,  3.1322e-01,\n",
       "          8.7890e-02, -3.7666e-01, -1.5973e-01, -2.1798e-01,  5.2998e-01,\n",
       "          3.1673e-01,  1.8448e-01, -6.2754e-01,  4.8551e-01, -2.5569e-02,\n",
       "         -6.9093e-01,  3.9152e-02,  4.5522e-01, -1.6251e-01, -4.8489e-01,\n",
       "          2.7890e-02,  1.7754e-01,  3.3470e-01, -3.3331e-01,  1.1413e-01,\n",
       "          5.9410e-03, -4.0472e-02, -8.5656e-02,  2.6389e-01,  1.5920e-02,\n",
       "         -1.0344e-01, -2.5106e-01,  1.1088e-01, -2.5513e-02, -3.0923e-01,\n",
       "          7.9645e-02,  6.0035e-02, -4.6859e-01,  1.8377e-01,  2.8484e-01,\n",
       "         -1.1313e-01, -1.4978e-01,  7.5240e-02, -1.7116e-01, -1.7012e-01,\n",
       "          1.4543e-01,  1.4666e-01,  4.1013e-01, -1.5326e-01, -1.2883e-01,\n",
       "         -3.6914e-01, -2.9930e-01, -7.2837e-01,  8.3505e-02,  1.7056e-01,\n",
       "         -2.0459e-01, -5.7258e-02,  2.4406e-02, -9.0514e-02,  2.2874e-02,\n",
       "         -1.2679e-01,  2.1571e-01,  2.5517e-01, -2.6963e-01,  7.9207e-02,\n",
       "         -3.8331e-01,  1.7784e-01, -3.0947e-01,  2.8525e-02, -5.3861e-01,\n",
       "         -1.3323e-01,  1.3036e-01, -4.1621e-02,  5.7565e-02, -2.6039e-01,\n",
       "         -3.3088e-01, -1.1989e-01,  1.7420e-01, -3.6382e-02, -1.8331e-01,\n",
       "         -4.7146e-01, -9.7809e-02, -3.0366e-01, -1.5693e-01, -2.7273e-01,\n",
       "          2.4965e-01,  3.9096e-02, -2.6418e-01, -1.1549e-01,  1.7397e-01,\n",
       "         -8.5037e-02,  2.0321e-01,  4.9721e-01, -8.9768e-02, -9.7688e-03,\n",
       "         -3.9140e-02, -5.0899e-01, -1.9514e-01, -2.9126e+00,  6.5097e-02,\n",
       "         -4.3158e-02, -5.6718e-02,  7.7684e-02, -8.8546e-02, -1.6169e-01,\n",
       "          1.8435e-01,  1.9178e-01,  4.8507e-01,  1.1582e-03,  4.4398e-02,\n",
       "         -2.4691e-01, -5.8923e-02,  1.2864e-01, -4.4011e-01, -3.5914e-02,\n",
       "          1.7000e-01, -1.1592e-01, -1.3687e-02, -2.5916e-01, -2.8050e-02,\n",
       "         -5.1919e-01, -1.2842e-02, -8.6210e-02, -3.7587e-01,  4.6453e-01,\n",
       "         -7.1049e-03,  2.7393e-01, -1.2867e-01, -2.8939e-01, -3.8348e-01,\n",
       "          9.3493e-02, -1.0294e-01, -1.5899e-01,  3.1851e-02,  1.7590e-02,\n",
       "         -1.2059e-01,  1.0372e-01, -2.0105e-01, -1.3782e-01,  8.2846e-02,\n",
       "          5.4851e-02,  7.2312e-02, -4.8168e-01, -1.7725e-01, -2.4877e-01,\n",
       "          2.6029e-01,  2.0385e-01,  4.2756e-02, -3.2669e-01,  5.0247e-02,\n",
       "          2.2444e+00,  5.7465e-02, -4.2449e-01, -1.4564e-01, -4.7489e-01,\n",
       "         -1.2353e-01,  4.4634e-01, -2.5551e-01, -7.9362e-02, -2.2479e-02,\n",
       "         -1.6027e-01,  6.4450e-02,  3.9989e-01, -1.4968e-02, -1.9693e-01,\n",
       "         -1.9187e-01,  1.9766e-01, -1.4570e-01,  1.6902e-01, -1.5263e-01,\n",
       "          1.6859e-03, -2.1792e-01, -5.3518e-02, -1.3908e-01,  1.2841e-02,\n",
       "         -2.4168e-01, -1.4275e-01, -3.0059e-01,  8.0463e-02,  3.1834e-02,\n",
       "          1.3891e-01,  3.7779e-03,  1.8701e-01, -1.5593e-02, -2.8254e-01,\n",
       "         -7.3309e-02, -2.5274e-01,  1.2876e-01, -1.8993e-01,  4.3410e-01,\n",
       "         -4.2109e-02, -1.7915e-01,  1.3137e-01,  2.1518e-01,  7.6573e-02,\n",
       "         -3.9480e-01, -1.7052e-01, -1.5423e-01,  1.4608e-02,  8.6295e-02,\n",
       "          4.0657e-02, -2.4335e-02, -2.0609e-01, -1.2217e-01,  1.0884e-01,\n",
       "          1.7181e-02,  3.6559e-01,  1.4595e-01, -7.8507e-02,  5.6660e-02,\n",
       "          3.7949e-02,  7.6531e-03, -2.4021e-01, -1.8655e-02,  3.0301e-02,\n",
       "          7.7381e-02, -3.3666e-01, -1.5708e-01, -8.3770e-02,  1.7172e-01,\n",
       "          3.6369e-02, -2.9216e-01, -1.5571e-01, -1.9515e-01,  2.9437e-02,\n",
       "         -2.3922e-01, -8.2429e-02, -1.0676e-01,  3.2009e-01,  5.9167e-02,\n",
       "          2.1239e-01,  3.0414e-01, -2.0763e-01, -1.3436e-01, -7.9537e-02,\n",
       "          1.9390e-01, -1.9343e-01, -3.0781e-01, -8.3133e-02,  6.9401e-02,\n",
       "          2.2486e-01, -1.6093e-01, -2.9613e-01,  3.9174e-02, -4.0131e-01,\n",
       "         -1.7049e-01,  1.4966e-01,  2.9654e-02,  1.2139e-01, -5.7108e-02,\n",
       "         -1.3706e-01,  9.7169e-02,  7.9414e-02, -2.4489e-01, -2.3627e-01,\n",
       "         -1.5889e-01, -9.2756e-02, -3.1076e-01,  1.0790e-01, -5.7255e-02,\n",
       "         -5.2798e-03,  1.8387e-02, -2.9763e-01,  1.3849e-01,  1.2977e-01,\n",
       "         -9.2009e-02,  1.5086e-02, -2.5384e-01,  2.7481e-02,  1.8305e-02,\n",
       "         -6.8549e-01,  8.2240e-03, -4.9175e-02,  4.1269e-02,  2.6964e-01,\n",
       "          3.1186e-02, -8.0338e-02,  2.0505e-01, -5.0513e-02,  3.0038e-02,\n",
       "          1.8302e-01,  2.3609e-02, -1.3975e-01, -8.9317e-02,  1.7641e-02,\n",
       "         -1.3221e-01,  1.8314e-02, -8.6477e-02,  2.1666e-01,  3.1408e-01,\n",
       "         -1.4224e-01, -7.1151e-02,  3.1767e-01, -1.1609e-01, -1.2634e-01,\n",
       "         -2.0556e-02, -1.6801e-01,  2.7728e-01,  5.4287e-02,  6.2913e-03,\n",
       "         -4.2177e-01,  4.8552e-02,  2.4020e-01,  2.8565e-01, -1.8327e-01,\n",
       "         -6.1756e-03,  4.2551e-02,  7.1917e-04,  1.4887e-01, -2.1521e-01,\n",
       "          3.3016e-02, -1.6871e-01,  3.0205e-02,  5.5971e-01,  1.6753e-01,\n",
       "         -1.1797e-01, -7.5988e-02,  3.2639e-02,  3.3248e-01, -1.8116e-01,\n",
       "          8.1890e-02,  8.6439e-02, -4.9199e-01, -4.1206e-02, -2.8841e-02,\n",
       "          6.4573e-01, -9.1088e-02,  8.0460e-02,  7.1770e-02, -3.6481e-01,\n",
       "          1.7391e-01,  3.2418e-01, -2.8152e-01,  1.3454e-01, -8.2061e-02,\n",
       "         -3.1749e-01,  3.4942e-02,  4.5885e-02,  1.2671e-01, -1.2225e-01,\n",
       "         -5.0817e-02,  4.3522e-01, -2.2490e-01, -8.3679e-04,  1.2279e-01,\n",
       "          5.9047e-02, -2.4453e-01,  4.0435e-02, -2.5276e-01, -4.4698e-01,\n",
       "         -2.1076e-01,  2.7279e-01, -2.6439e-03,  1.4516e-01, -2.4145e-01,\n",
       "         -4.9322e-01, -1.7754e-01,  3.1176e-02, -1.7056e-03, -1.2711e-01,\n",
       "          1.9124e-01,  1.1115e-01,  1.8141e-01, -4.2663e-02, -2.7946e-01,\n",
       "          1.5684e-01, -4.9541e-01, -2.0666e-01,  2.6989e-01,  2.8478e-01,\n",
       "         -4.5628e-02, -3.8571e-01,  2.2580e-01, -7.7177e-02,  3.9701e-02,\n",
       "         -1.4040e-01,  3.2388e-01,  9.2829e-02,  7.7994e-02,  4.9996e-02,\n",
       "          1.6222e-01,  1.4529e-01, -3.5701e-01,  2.6875e-01, -5.2684e-03,\n",
       "          2.1684e-02, -1.2783e-01,  9.1459e-02, -5.1232e-02, -7.2647e-02,\n",
       "          6.5916e-02, -2.2715e-01, -1.4499e-01,  2.7902e-02,  1.2793e-01,\n",
       "         -3.8758e-01,  8.5306e-02,  3.0037e-02,  1.1416e-01, -1.2270e-01,\n",
       "         -2.8313e-01, -2.5757e-01, -2.2405e-01, -1.5805e-02, -2.8051e-01,\n",
       "         -3.6463e-02,  1.2062e-01, -3.4710e-01,  5.9232e-01,  5.1757e-01,\n",
       "         -6.3605e-02,  1.0428e-01,  2.2729e-03,  1.0727e-01, -4.4319e-01,\n",
       "          7.9168e-02, -3.0023e-02, -5.3892e-01,  5.6187e-02,  6.0072e-02,\n",
       "          1.7660e-01, -1.0016e-01,  7.7547e-02, -1.4615e-01,  2.6540e-01,\n",
       "          7.1728e-03,  6.9430e-02,  1.3013e-01, -2.8331e-01, -1.6704e-01,\n",
       "         -6.6864e-02,  1.3661e-01,  3.1352e-01, -2.7312e-01, -1.8867e-01,\n",
       "          1.6210e-01, -5.7774e-01,  2.3778e-01, -4.1214e-01, -4.7514e-02,\n",
       "         -6.4274e-02,  8.2113e-02, -3.5893e-01, -2.0564e-01,  2.3069e-02,\n",
       "         -1.9222e-01,  5.4164e-01,  9.0463e-02, -7.2465e-02, -3.1581e-01,\n",
       "         -2.4438e-01, -2.8461e-01, -5.0915e-01, -3.8296e-01, -3.9475e-02,\n",
       "         -3.1578e-01,  2.4928e-02, -3.0011e-01, -3.9469e-01,  3.0071e-03,\n",
       "          5.4915e-02, -1.1353e-01, -1.7105e-01,  2.1302e-01,  1.1410e-01,\n",
       "          2.0684e-01, -1.5925e-01,  4.2684e-02, -2.6410e-01,  1.1951e-01,\n",
       "          1.1072e-01,  2.8414e-01, -2.5604e-01,  1.7271e-01, -1.1919e-01,\n",
       "          2.4300e-01, -1.0071e-01, -4.4605e-01, -1.1756e-02, -4.3738e-01,\n",
       "         -1.3397e-01, -2.4416e-02, -9.2080e-03,  1.1817e-01, -2.5989e-01,\n",
       "          2.7607e-01,  1.5580e-01,  3.9839e-02,  1.3667e-01,  4.4945e-02,\n",
       "          2.5470e-02, -1.1150e-04,  3.0053e-01, -2.2078e-02, -2.3028e-01,\n",
       "         -2.0697e-03,  8.2664e-02,  2.9437e-01, -9.5743e-02, -5.0068e-02,\n",
       "          8.3511e-02, -5.1249e-01, -2.7660e-01,  1.4657e-01, -2.3124e-01,\n",
       "         -9.4916e-02, -1.2149e-01,  8.2768e-02,  2.5896e-01, -1.9026e-01,\n",
       "         -7.7225e-02, -2.7051e-01, -1.5392e-01, -2.7357e-01, -4.4900e-02,\n",
       "          1.1402e-01, -5.5273e-02, -1.3386e-02,  2.9048e-01, -1.0911e-02,\n",
       "         -1.3525e-01, -1.8394e-01, -1.8151e-01, -2.3594e-01, -1.5787e-01,\n",
       "         -1.6587e-02, -2.7142e-01,  2.8284e-01, -4.7896e-03,  1.5806e-01,\n",
       "          2.5986e-01, -2.4850e-01,  1.9788e-01, -2.0055e-01,  1.7872e-01,\n",
       "          2.3307e-02,  1.7128e-01, -1.7506e-01,  3.9931e-01, -1.3586e-01,\n",
       "          3.0975e-01, -1.0869e-01, -1.6604e-02,  1.8763e-02, -9.1362e-02,\n",
       "         -7.6802e-02,  1.4684e-02,  1.0993e-01, -3.7357e-01,  8.3662e-01,\n",
       "         -2.6806e-01, -5.5082e-02,  1.7632e-01,  8.6487e-02, -4.4870e-01,\n",
       "          9.0915e-02,  1.0297e-01, -2.0855e-02, -5.2149e-02,  1.6773e-01,\n",
       "          4.1855e-02, -1.3855e-01, -8.7157e-02,  8.3874e-02, -1.8444e-01,\n",
       "          1.6684e-02,  2.3346e-01,  1.0490e-01, -3.3092e-01, -9.2126e-02,\n",
       "         -3.3371e-01, -1.6713e-01, -1.8771e-01]])"
      ]
     },
     "execution_count": 159,
     "metadata": {},
     "output_type": "execute_result"
    }
   ],
   "source": [
    "document_embedding = outputs.last_hidden_state.mean(dim=1)\n",
    "document_embedding"
   ]
  },
  {
   "cell_type": "code",
   "execution_count": 163,
   "id": "b5bce6f9",
   "metadata": {},
   "outputs": [
    {
     "data": {
      "text/plain": [
       "torch.Size([1, 42, 768])"
      ]
     },
     "execution_count": 163,
     "metadata": {},
     "output_type": "execute_result"
    }
   ],
   "source": [
    "outputs.last_hidden_state.shape"
   ]
  },
  {
   "cell_type": "code",
   "execution_count": 164,
   "id": "eb1da356",
   "metadata": {},
   "outputs": [
    {
     "data": {
      "text/plain": [
       "Embedding(32000, 768, padding_idx=1)"
      ]
     },
     "execution_count": 164,
     "metadata": {},
     "output_type": "execute_result"
    }
   ],
   "source": [
    "model.embeddings.word_embeddings"
   ]
  },
  {
   "cell_type": "code",
   "execution_count": 162,
   "id": "2720b546",
   "metadata": {},
   "outputs": [
    {
     "data": {
      "text/plain": [
       "974"
      ]
     },
     "execution_count": 162,
     "metadata": {},
     "output_type": "execute_result"
    }
   ],
   "source": [
    "import numpy as np\n",
    "\n",
    "# 문서 임베딩과 각 단어 임베딩 간의 코사인 유사도 계산\n",
    "word_embeddings = outputs.last_hidden_state[0]  # 각 단어의 임베딩 벡터 (예: shape = [단어 개수, 임베딩 차원])\n",
    "document_embedding = outputs.last_hidden_state.mean(dim=1)  # 문서의 임베딩 벡터 (예: shape = [1, 임베딩 차원])\n",
    "\n",
    "# 내적 계산\n",
    "dot_product = np.dot(word_embeddings, document_embedding.T)  # 각 단어 임베딩과 문서 임베딩 간의 내적\n",
    "\n",
    "# 각 벡터의 크기(norm) 계산\n",
    "word_embedding_norms = np.linalg.norm(word_embeddings, axis=1)  # 각 단어 임베딩의 크기\n",
    "document_embedding_norm = np.linalg.norm(document_embedding)  # 문서 임베딩의 크기\n",
    "\n",
    "# 코사인 유사도 계산\n",
    "cosine_similarities = dot_product / (word_embedding_norms * document_embedding_norm)\n",
    "\n",
    "# 코사인 유사도를 기준으로 가장 유사한 단어 선택\n",
    "most_similar_word_index = np.argmax(cosine_similarities)\n",
    "most_similar_word_index\n",
    "# most_similar_word = tokens[most_similar_word_index]  # 단어 인덱스를 단어로 변환\n"
   ]
  },
  {
   "cell_type": "code",
   "execution_count": 154,
   "id": "9f64e4bd",
   "metadata": {},
   "outputs": [
    {
     "ename": "ValueError",
     "evalue": "shapes (42,768) and (1,768) not aligned: 768 (dim 1) != 1 (dim 0)",
     "output_type": "error",
     "traceback": [
      "\u001b[1;31m---------------------------------------------------------------------------\u001b[0m",
      "\u001b[1;31mValueError\u001b[0m                                Traceback (most recent call last)",
      "Cell \u001b[1;32mIn[154], line 5\u001b[0m\n\u001b[0;32m      3\u001b[0m \u001b[38;5;66;03m# 문서 임베딩과 각 단어 임베딩 간의 코사인 유사도 계산\u001b[39;00m\n\u001b[0;32m      4\u001b[0m word_embeddings \u001b[38;5;241m=\u001b[39m outputs\u001b[38;5;241m.\u001b[39mlast_hidden_state[\u001b[38;5;241m0\u001b[39m]  \u001b[38;5;66;03m# 모든 단어의 임베딩\u001b[39;00m\n\u001b[1;32m----> 5\u001b[0m cosine_similarities \u001b[38;5;241m=\u001b[39m \u001b[43mnp\u001b[49m\u001b[38;5;241;43m.\u001b[39;49m\u001b[43mdot\u001b[49m\u001b[43m(\u001b[49m\u001b[43mword_embeddings\u001b[49m\u001b[43m,\u001b[49m\u001b[43m \u001b[49m\u001b[43mdocument_embedding\u001b[49m\u001b[43m)\u001b[49m \u001b[38;5;241m/\u001b[39m (np\u001b[38;5;241m.\u001b[39mlinalg\u001b[38;5;241m.\u001b[39mnorm(word_embeddings, axis\u001b[38;5;241m=\u001b[39m\u001b[38;5;241m1\u001b[39m) \u001b[38;5;241m*\u001b[39m np\u001b[38;5;241m.\u001b[39mlinalg\u001b[38;5;241m.\u001b[39mnorm(document_embedding))\n\u001b[0;32m      7\u001b[0m \u001b[38;5;66;03m# 가장 유사도가 높은 단어 선택\u001b[39;00m\n\u001b[0;32m      8\u001b[0m representative_word_index \u001b[38;5;241m=\u001b[39m np\u001b[38;5;241m.\u001b[39margmax(cosine_similarities)\n",
      "File \u001b[1;32m<__array_function__ internals>:180\u001b[0m, in \u001b[0;36mdot\u001b[1;34m(*args, **kwargs)\u001b[0m\n",
      "\u001b[1;31mValueError\u001b[0m: shapes (42,768) and (1,768) not aligned: 768 (dim 1) != 1 (dim 0)"
     ]
    }
   ],
   "source": [
    "import numpy as np\n",
    "\n",
    "# 문서 임베딩과 각 단어 임베딩 간의 코사인 유사도 계산\n",
    "word_embeddings = outputs.last_hidden_state[0]  # 모든 단어의 임베딩\n",
    "cosine_similarities = np.dot(word_embeddings, document_embedding) / (np.linalg.norm(word_embeddings, axis=1) * np.linalg.norm(document_embedding))\n",
    "\n",
    "# 가장 유사도가 높은 단어 선택\n",
    "representative_word_index = np.argmax(cosine_similarities)\n",
    "representative_word = tokens[representative_word_index]\n",
    "\n",
    "print(\"대표 단어:\", representative_word)\n"
   ]
  },
  {
   "cell_type": "code",
   "execution_count": 135,
   "id": "62741597",
   "metadata": {
    "scrolled": true
   },
   "outputs": [
    {
     "name": "stdout",
     "output_type": "stream",
     "text": [
      "[CLS] 1\n",
      "한국 2\n",
      "##의 3\n",
      "수도 4\n",
      "##는 5\n",
      "서울 6\n",
      "##이 7\n",
      "##며 8\n",
      ", 9\n",
      "대표 10\n",
      "##적인 11\n",
      "관광지 12\n",
      "##로 13\n",
      "##는 14\n",
      "경복궁 15\n",
      ", 16\n",
      "덕수궁 17\n",
      ", 18\n",
      "남산 19\n",
      "타워 20\n",
      "등 21\n",
      "##이 22\n",
      "있 23\n",
      "##습 24\n",
      "##니다 25\n",
      ". 26\n",
      "한국 27\n",
      "##은 28\n",
      "한반도 29\n",
      "##에 30\n",
      "위치 31\n",
      "##하 32\n",
      "##며 33\n",
      ", 34\n",
      "서울 35\n",
      "##은 36\n",
      "대한민국 37\n",
      "##의 38\n",
      "수도 39\n",
      "##입니다 40\n",
      ". 41\n",
      "[SEP] 42\n"
     ]
    }
   ],
   "source": [
    "tokens = tokenizer.tokenize(tokenizer.decode(tokenizer.encode(document)))\n",
    "cnt = 1\n",
    "for t in tokens:\n",
    "    print(t, cnt)\n",
    "    cnt +=1"
   ]
  },
  {
   "cell_type": "code",
   "execution_count": 141,
   "id": "5fd49bd4",
   "metadata": {},
   "outputs": [
    {
     "data": {
      "text/plain": [
       "[0,\n",
       " 3629,\n",
       " 2079,\n",
       " 4438,\n",
       " 2259,\n",
       " 3671,\n",
       " 2052,\n",
       " 2307,\n",
       " 16,\n",
       " 3661,\n",
       " 31221,\n",
       " 9417,\n",
       " 2200,\n",
       " 2259,\n",
       " 17587,\n",
       " 16,\n",
       " 26875,\n",
       " 16,\n",
       " 12103,\n",
       " 8203,\n",
       " 886,\n",
       " 2052,\n",
       " 1513,\n",
       " 2219,\n",
       " 3606,\n",
       " 18,\n",
       " 3629,\n",
       " 2073,\n",
       " 5409,\n",
       " 2170,\n",
       " 4318,\n",
       " 2205,\n",
       " 2307,\n",
       " 16,\n",
       " 3671,\n",
       " 2073,\n",
       " 4892,\n",
       " 2079,\n",
       " 4438,\n",
       " 12190,\n",
       " 18,\n",
       " 2]"
      ]
     },
     "execution_count": 141,
     "metadata": {},
     "output_type": "execute_result"
    }
   ],
   "source": [
    "tokenizer.encode(document)"
   ]
  },
  {
   "cell_type": "code",
   "execution_count": 134,
   "id": "1a293fb4",
   "metadata": {
    "scrolled": true
   },
   "outputs": [
    {
     "name": "stdout",
     "output_type": "stream",
     "text": [
      "한국 1\n",
      "##의 2\n",
      "수도 3\n",
      "##는 4\n",
      "서울 5\n",
      "##이 6\n",
      "##며 7\n",
      ", 8\n",
      "대표 9\n",
      "##적인 10\n",
      "관광지 11\n",
      "##로 12\n",
      "##는 13\n",
      "경복궁 14\n",
      ", 15\n",
      "덕수궁 16\n",
      ", 17\n",
      "남산 18\n",
      "타워 19\n",
      "등 20\n",
      "##이 21\n",
      "있 22\n",
      "##습 23\n",
      "##니다 24\n",
      ". 25\n",
      "한국 26\n",
      "##은 27\n",
      "한반도 28\n",
      "##에 29\n",
      "위치 30\n",
      "##하 31\n",
      "##며 32\n",
      ", 33\n",
      "서울 34\n",
      "##은 35\n",
      "대한민국 36\n",
      "##의 37\n",
      "수도 38\n",
      "##입니다 39\n",
      ". 40\n"
     ]
    }
   ],
   "source": [
    "tokens = tokenizer.tokenize(document)\n",
    "cnt = 1\n",
    "for t in tokens:\n",
    "    print(t, cnt)\n",
    "    cnt +=1"
   ]
  },
  {
   "cell_type": "code",
   "execution_count": 120,
   "id": "64ff93d4",
   "metadata": {},
   "outputs": [
    {
     "data": {
      "text/plain": [
       "42"
      ]
     },
     "execution_count": 120,
     "metadata": {},
     "output_type": "execute_result"
    }
   ],
   "source": [
    "len(tokenizer.encode(document))"
   ]
  },
  {
   "cell_type": "code",
   "execution_count": 122,
   "id": "c823528c",
   "metadata": {},
   "outputs": [
    {
     "data": {
      "text/plain": [
       "42"
      ]
     },
     "execution_count": 122,
     "metadata": {},
     "output_type": "execute_result"
    }
   ],
   "source": [
    "len(hidden_states[0])"
   ]
  },
  {
   "cell_type": "code",
   "execution_count": 127,
   "id": "4c800c28",
   "metadata": {},
   "outputs": [
    {
     "data": {
      "text/plain": [
       "tensor([32, 17, 29, 15, 31])"
      ]
     },
     "execution_count": 127,
     "metadata": {},
     "output_type": "execute_result"
    }
   ],
   "source": [
    "hidden_states[0].sum(dim=1).argsort(descending=True)[:5]"
   ]
  },
  {
   "cell_type": "code",
   "execution_count": 130,
   "id": "84ad04d5",
   "metadata": {},
   "outputs": [
    {
     "data": {
      "text/plain": [
       "5"
      ]
     },
     "execution_count": 130,
     "metadata": {},
     "output_type": "execute_result"
    }
   ],
   "source": [
    "len(hidden_states[0].sum(dim=1).argsort(descending=True)[:5])"
   ]
  },
  {
   "cell_type": "code",
   "execution_count": 116,
   "id": "245be0fc",
   "metadata": {
    "scrolled": true
   },
   "outputs": [
    {
     "data": {
      "text/plain": [
       "tensor([345, 293,  34,  69, 573,  80,  94, 426, 280, 498, 404, 628, 349, 135,\n",
       "        111, 186, 331, 141, 257, 643, 689, 457, 441, 622,  44, 659, 691, 388,\n",
       "        685, 248, 189,  50, 557, 335, 300, 367, 510, 216, 419, 687, 660, 338,\n",
       "         98, 301, 546, 322, 519, 670,  82, 411,  61, 692, 382, 483, 102, 621,\n",
       "         63, 467, 319,  64, 403, 324, 488, 406, 545, 455, 585, 610, 290, 493,\n",
       "         95, 168, 333, 530, 682, 470, 431, 592,  52,  22,  42, 121, 619, 214,\n",
       "        328, 506, 623, 547, 271, 603, 412,  86, 287, 387,  23,  26, 184, 400,\n",
       "        698, 440, 368, 396, 705, 109, 616, 173, 204, 554, 100, 503, 541, 681,\n",
       "        724, 294, 466, 542, 265, 538, 296, 149, 219, 718, 572, 674, 508, 604,\n",
       "        543, 492, 220,  60, 145,  55, 143, 342, 166, 520, 273, 744, 144, 125,\n",
       "        657, 627, 767, 719, 252, 661, 446, 601, 325, 237, 393,  13, 501, 588,\n",
       "          4, 747, 752, 559, 560, 617, 611, 608, 267, 258,  76,  43, 185, 423,\n",
       "        703, 224, 593, 631, 721, 540, 392, 490, 529, 306, 671, 577, 118, 210,\n",
       "        359, 655,  28, 226, 571, 727, 240, 556, 596, 482, 649, 152, 155,   0,\n",
       "          3, 464, 707, 334, 590, 581, 565, 413, 458, 606, 582, 187, 518, 736,\n",
       "        701,  91, 688, 416, 437, 391, 176, 418,  65, 302, 675,  40, 429,  39,\n",
       "        134,  78, 757, 535, 641, 138, 384, 743, 246, 645, 369, 594,  88, 366,\n",
       "        452, 760, 555, 263, 658, 309, 499, 136, 523, 303,  15,  74,  54, 600,\n",
       "        723, 197, 229, 558, 415, 447, 167, 629, 209, 312, 639, 526,  57, 484,\n",
       "        714, 202, 487, 733, 570, 532, 268, 361, 512, 326, 374, 394, 710, 363,\n",
       "         59, 513,  81, 157, 755, 444, 479, 172, 386, 686, 375, 700, 207, 409,\n",
       "        469, 656, 194, 336, 754, 505, 198, 680, 625, 574, 379, 589, 140, 133,\n",
       "         45, 261, 362, 284,  29, 232,  71, 568,  68, 350,  73,  30, 314, 683,\n",
       "        521, 618, 427, 591, 385, 578, 233, 358, 177,   9, 476, 321, 713, 478,\n",
       "        274,  14, 527, 475, 738, 215, 731, 130, 668, 756, 175, 598, 583, 524,\n",
       "        373, 276, 341, 716, 748, 471, 137, 425, 451, 735, 153, 115, 580, 255,\n",
       "        256, 147, 433, 472,  11, 283, 517, 218, 108, 646, 742, 428, 533, 365,\n",
       "        507, 397, 192,  38, 370, 741, 161, 131, 605, 722, 662, 732, 401, 654,\n",
       "        516, 253, 317, 163, 239, 249, 715, 107, 579,  25, 360, 183, 351, 758,\n",
       "        665, 534, 537,  96, 156, 247, 515, 614, 395, 704,  51, 203, 575, 243,\n",
       "        364, 553, 101,  70, 165, 525, 114, 127, 178,  75, 286, 759, 266, 200,\n",
       "        272, 690, 327, 630,  99, 405, 196, 497, 264, 181,  32, 734, 563, 105,\n",
       "         93, 160,  20,   6, 468, 626, 278, 430,  47, 199, 337, 633, 180, 316,\n",
       "        376, 635, 676, 663,  37, 310, 259, 421, 750, 567, 586, 509, 569, 753,\n",
       "        474, 320,  58, 417, 730, 285, 315, 222, 117, 729, 190, 119, 473, 695,\n",
       "        139, 576, 434, 584, 299, 745, 762,  41, 213, 708, 148, 528, 201, 389,\n",
       "        279,  33,  36, 644, 383, 230, 511, 678, 305, 439, 607,  77, 377, 225,\n",
       "        566,  24,  62, 706, 346, 407, 399, 765, 348, 726, 352, 636, 126, 151,\n",
       "        154, 720, 193, 551, 684,  89,   2, 495,  21, 123, 269, 442, 699, 251,\n",
       "        195, 110, 120,  46, 424, 739, 648, 277, 270, 486, 339, 129, 371, 751,\n",
       "        211, 354, 435, 113, 295, 245, 112, 381, 612, 289, 615, 179, 106, 436,\n",
       "        244,  16, 292, 496,  83,  87, 602, 766, 356, 132, 170, 380,  85, 669,\n",
       "        677, 227, 550, 664, 329, 453,  97, 191, 673, 711, 564, 651, 234, 637,\n",
       "        221, 124, 702, 307, 402, 642, 461, 764, 634, 288, 282, 449, 164, 693,\n",
       "        761, 304, 208, 740, 500, 390, 217, 717, 254, 188, 494, 445,  67, 443,\n",
       "        414, 206, 212, 522, 128, 311, 485, 171, 340, 347, 432, 422,  53, 438,\n",
       "        275, 297, 323, 504,   7, 650, 632, 450, 697, 318, 448, 539, 238, 737,\n",
       "        647, 481, 372,   8,  56, 281,  18, 228, 169, 142, 652, 489, 709,  10,\n",
       "        159, 549, 712, 624,  12, 343, 116, 162, 357,  92, 158,  79, 746, 398,\n",
       "         90, 308, 679, 182, 465, 725, 456, 250, 103, 638,  27, 330, 344, 235,\n",
       "        548, 609, 502, 491, 477, 561, 260,  19, 599,  72, 223, 174,  66, 667,\n",
       "         35,  17, 122, 597, 454, 587, 410, 378,  49, 552, 146, 313, 231,   5,\n",
       "        241, 150, 355, 459, 749, 236, 408, 291, 531, 536, 205, 562, 242, 332,\n",
       "        595, 763, 353, 420,  48, 480, 694, 666, 460, 620, 262, 463,  84, 514,\n",
       "         31, 653, 696,   1, 462, 613, 672, 728, 640, 298, 544, 104])"
      ]
     },
     "execution_count": 116,
     "metadata": {},
     "output_type": "execute_result"
    }
   ],
   "source": [
    "keyword_indices = hidden_states[0].argsort(descending=True)[:5]\n",
    "keyword_indices[0]"
   ]
  },
  {
   "cell_type": "code",
   "execution_count": 136,
   "id": "f6856354",
   "metadata": {
    "scrolled": true
   },
   "outputs": [
    {
     "data": {
      "text/plain": [
       "[Token(form='한국', tag='NNP', start=0, len=2),\n",
       " Token(form='의', tag='JKG', start=2, len=1),\n",
       " Token(form='수도', tag='NNG', start=4, len=2),\n",
       " Token(form='는', tag='JX', start=6, len=1),\n",
       " Token(form='서울', tag='NNP', start=8, len=2),\n",
       " Token(form='이', tag='VCP', start=10, len=1),\n",
       " Token(form='며', tag='EC', start=11, len=1),\n",
       " Token(form=',', tag='SP', start=12, len=1),\n",
       " Token(form='대표', tag='NNG', start=14, len=2),\n",
       " Token(form='적', tag='XSN', start=16, len=1),\n",
       " Token(form='이', tag='VCP', start=17, len=1),\n",
       " Token(form='ᆫ', tag='ETM', start=17, len=1),\n",
       " Token(form='관광지', tag='NNG', start=19, len=3),\n",
       " Token(form='로', tag='JKB', start=22, len=1),\n",
       " Token(form='는', tag='JX', start=23, len=1),\n",
       " Token(form='경복궁', tag='NNP', start=25, len=3),\n",
       " Token(form=',', tag='SP', start=28, len=1),\n",
       " Token(form='덕수궁', tag='NNP', start=30, len=3),\n",
       " Token(form=',', tag='SP', start=33, len=1),\n",
       " Token(form='남산', tag='NNP', start=35, len=2),\n",
       " Token(form='타워', tag='NNG', start=38, len=2),\n",
       " Token(form='등', tag='NNB', start=41, len=1),\n",
       " Token(form='이', tag='JKS', start=42, len=1),\n",
       " Token(form='있', tag='VV', start=44, len=1),\n",
       " Token(form='습니다', tag='EF', start=45, len=3),\n",
       " Token(form='.', tag='SF', start=48, len=1),\n",
       " Token(form='한국', tag='NNP', start=50, len=2),\n",
       " Token(form='은', tag='JX', start=52, len=1),\n",
       " Token(form='한반도', tag='NNP', start=54, len=3),\n",
       " Token(form='에', tag='JKB', start=57, len=1),\n",
       " Token(form='위치', tag='NNG', start=59, len=2),\n",
       " Token(form='하', tag='XSV', start=61, len=1),\n",
       " Token(form='며', tag='EC', start=62, len=1),\n",
       " Token(form=',', tag='SP', start=63, len=1),\n",
       " Token(form='서울', tag='NNP', start=65, len=2),\n",
       " Token(form='은', tag='JX', start=67, len=1),\n",
       " Token(form='대한민국', tag='NNP', start=69, len=4),\n",
       " Token(form='의', tag='JKG', start=73, len=1),\n",
       " Token(form='수도', tag='NNG', start=75, len=2),\n",
       " Token(form='이', tag='VCP', start=77, len=1),\n",
       " Token(form='ᆸ니다', tag='EF', start=77, len=3),\n",
       " Token(form='.', tag='SF', start=80, len=1)]"
      ]
     },
     "execution_count": 136,
     "metadata": {},
     "output_type": "execute_result"
    }
   ],
   "source": [
    "result = kiwi.tokenize(document)\n",
    "result"
   ]
  },
  {
   "cell_type": "code",
   "execution_count": 65,
   "id": "f01da39f",
   "metadata": {
    "scrolled": true
   },
   "outputs": [
    {
     "data": {
      "text/plain": [
       "['__annotations__',\n",
       " '__class__',\n",
       " '__contains__',\n",
       " '__dataclass_fields__',\n",
       " '__dataclass_params__',\n",
       " '__delattr__',\n",
       " '__delitem__',\n",
       " '__dict__',\n",
       " '__dir__',\n",
       " '__doc__',\n",
       " '__eq__',\n",
       " '__format__',\n",
       " '__ge__',\n",
       " '__getattribute__',\n",
       " '__getitem__',\n",
       " '__gt__',\n",
       " '__hash__',\n",
       " '__init__',\n",
       " '__init_subclass__',\n",
       " '__iter__',\n",
       " '__le__',\n",
       " '__len__',\n",
       " '__lt__',\n",
       " '__module__',\n",
       " '__ne__',\n",
       " '__new__',\n",
       " '__post_init__',\n",
       " '__reduce__',\n",
       " '__reduce_ex__',\n",
       " '__repr__',\n",
       " '__reversed__',\n",
       " '__setattr__',\n",
       " '__setitem__',\n",
       " '__sizeof__',\n",
       " '__str__',\n",
       " '__subclasshook__',\n",
       " 'attentions',\n",
       " 'clear',\n",
       " 'copy',\n",
       " 'cross_attentions',\n",
       " 'fromkeys',\n",
       " 'get',\n",
       " 'hidden_states',\n",
       " 'items',\n",
       " 'keys',\n",
       " 'last_hidden_state',\n",
       " 'move_to_end',\n",
       " 'past_key_values',\n",
       " 'pooler_output',\n",
       " 'pop',\n",
       " 'popitem',\n",
       " 'setdefault',\n",
       " 'to_tuple',\n",
       " 'update',\n",
       " 'values']"
      ]
     },
     "execution_count": 65,
     "metadata": {},
     "output_type": "execute_result"
    }
   ],
   "source": [
    "dir(outputs)"
   ]
  },
  {
   "cell_type": "code",
   "execution_count": 69,
   "id": "bf9ce62a",
   "metadata": {},
   "outputs": [
    {
     "data": {
      "text/plain": [
       "tensor([[[ 0.0919, -0.6115, -0.1571,  ..., -0.1492, -0.1905,  0.1406],\n",
       "         [-0.6565, -0.2256, -0.2437,  ...,  0.0889, -0.1331,  0.0465],\n",
       "         [-0.4368, -0.5798,  0.2262,  ..., -0.4706, -0.2786, -0.2569],\n",
       "         ...,\n",
       "         [-0.2876, -0.5503, -0.1821,  ..., -0.7832, -0.0448, -0.2131],\n",
       "         [-0.2211, -0.1324,  0.1354,  ..., -0.2847, -0.1898, -0.2840],\n",
       "         [ 0.0912, -0.6113, -0.1571,  ..., -0.1497, -0.1902,  0.1407]]])"
      ]
     },
     "execution_count": 69,
     "metadata": {},
     "output_type": "execute_result"
    }
   ],
   "source": [
    "outputs.last_hidden_state"
   ]
  },
  {
   "cell_type": "code",
   "execution_count": 151,
   "id": "1d34bb25",
   "metadata": {
    "scrolled": true
   },
   "outputs": [
    {
     "data": {
      "text/plain": [
       "[0,\n",
       " 3629,\n",
       " 2079,\n",
       " 4438,\n",
       " 2259,\n",
       " 3671,\n",
       " 2052,\n",
       " 2307,\n",
       " 16,\n",
       " 3661,\n",
       " 31221,\n",
       " 9417,\n",
       " 2200,\n",
       " 2259,\n",
       " 17587,\n",
       " 16,\n",
       " 26875,\n",
       " 16,\n",
       " 12103,\n",
       " 8203,\n",
       " 886,\n",
       " 2052,\n",
       " 1513,\n",
       " 2219,\n",
       " 3606,\n",
       " 18,\n",
       " 3629,\n",
       " 2073,\n",
       " 5409,\n",
       " 2170,\n",
       " 4318,\n",
       " 2205,\n",
       " 2307,\n",
       " 16,\n",
       " 3671,\n",
       " 2073,\n",
       " 4892,\n",
       " 2079,\n",
       " 4438,\n",
       " 12190,\n",
       " 18,\n",
       " 2]"
      ]
     },
     "execution_count": 151,
     "metadata": {},
     "output_type": "execute_result"
    }
   ],
   "source": [
    "ids = tokenizer.convert_tokens_to_ids(tokens)\n",
    "ids\n",
    "#tokenizer.decode(tokenizer.prepare_for_model(ids).input_ids)"
   ]
  },
  {
   "cell_type": "code",
   "execution_count": null,
   "id": "e867d6b1",
   "metadata": {},
   "outputs": [],
   "source": [
    "#keybert 시작"
   ]
  },
  {
   "cell_type": "code",
   "execution_count": 2,
   "id": "5441646f",
   "metadata": {
    "scrolled": true
   },
   "outputs": [
    {
     "name": "stdout",
     "output_type": "stream",
     "text": [
      "Requirement already satisfied: keybert in c:\\users\\liber\\anaconda3\\envs\\fivecart\\lib\\site-packages (0.7.0)\n",
      "Requirement already satisfied: sentence-transformers>=0.3.8 in c:\\users\\liber\\anaconda3\\envs\\fivecart\\lib\\site-packages (from keybert) (2.2.2)\n",
      "Requirement already satisfied: scikit-learn>=0.22.2 in c:\\users\\liber\\anaconda3\\envs\\fivecart\\lib\\site-packages (from keybert) (1.3.1)\n",
      "Requirement already satisfied: numpy>=1.18.5 in c:\\users\\liber\\anaconda3\\envs\\fivecart\\lib\\site-packages (from keybert) (1.24.4)\n",
      "Requirement already satisfied: rich>=10.4.0 in c:\\users\\liber\\anaconda3\\envs\\fivecart\\lib\\site-packages (from keybert) (13.5.3)\n",
      "Requirement already satisfied: markdown-it-py>=2.2.0 in c:\\users\\liber\\anaconda3\\envs\\fivecart\\lib\\site-packages (from rich>=10.4.0->keybert) (3.0.0)\n",
      "Requirement already satisfied: pygments<3.0.0,>=2.13.0 in c:\\users\\liber\\anaconda3\\envs\\fivecart\\lib\\site-packages (from rich>=10.4.0->keybert) (2.15.1)\n",
      "Requirement already satisfied: typing-extensions<5.0,>=4.0.0 in c:\\users\\liber\\anaconda3\\envs\\fivecart\\lib\\site-packages (from rich>=10.4.0->keybert) (4.7.1)\n",
      "Requirement already satisfied: scipy>=1.5.0 in c:\\users\\liber\\anaconda3\\envs\\fivecart\\lib\\site-packages (from scikit-learn>=0.22.2->keybert) (1.10.1)\n",
      "Requirement already satisfied: joblib>=1.1.1 in c:\\users\\liber\\anaconda3\\envs\\fivecart\\lib\\site-packages (from scikit-learn>=0.22.2->keybert) (1.3.2)\n",
      "Requirement already satisfied: threadpoolctl>=2.0.0 in c:\\users\\liber\\anaconda3\\envs\\fivecart\\lib\\site-packages (from scikit-learn>=0.22.2->keybert) (3.2.0)\n",
      "Requirement already satisfied: transformers<5.0.0,>=4.6.0 in c:\\users\\liber\\anaconda3\\envs\\fivecart\\lib\\site-packages (from sentence-transformers>=0.3.8->keybert) (4.33.2)\n",
      "Requirement already satisfied: tqdm in c:\\users\\liber\\anaconda3\\envs\\fivecart\\lib\\site-packages (from sentence-transformers>=0.3.8->keybert) (4.66.1)\n",
      "Requirement already satisfied: torch>=1.6.0 in c:\\users\\liber\\appdata\\roaming\\python\\python38\\site-packages (from sentence-transformers>=0.3.8->keybert) (2.0.0)\n",
      "Requirement already satisfied: torchvision in c:\\users\\liber\\anaconda3\\envs\\fivecart\\lib\\site-packages (from sentence-transformers>=0.3.8->keybert) (0.15.2)\n",
      "Requirement already satisfied: nltk in c:\\users\\liber\\anaconda3\\envs\\fivecart\\lib\\site-packages (from sentence-transformers>=0.3.8->keybert) (3.8.1)\n",
      "Requirement already satisfied: sentencepiece in c:\\users\\liber\\anaconda3\\envs\\fivecart\\lib\\site-packages (from sentence-transformers>=0.3.8->keybert) (0.1.99)\n",
      "Requirement already satisfied: huggingface-hub>=0.4.0 in c:\\users\\liber\\anaconda3\\envs\\fivecart\\lib\\site-packages (from sentence-transformers>=0.3.8->keybert) (0.17.2)\n",
      "Requirement already satisfied: filelock in c:\\users\\liber\\anaconda3\\envs\\fivecart\\lib\\site-packages (from huggingface-hub>=0.4.0->sentence-transformers>=0.3.8->keybert) (3.12.4)\n",
      "Requirement already satisfied: fsspec in c:\\users\\liber\\anaconda3\\envs\\fivecart\\lib\\site-packages (from huggingface-hub>=0.4.0->sentence-transformers>=0.3.8->keybert) (2023.9.2)\n",
      "Requirement already satisfied: requests in c:\\users\\liber\\anaconda3\\envs\\fivecart\\lib\\site-packages (from huggingface-hub>=0.4.0->sentence-transformers>=0.3.8->keybert) (2.31.0)\n",
      "Requirement already satisfied: pyyaml>=5.1 in c:\\users\\liber\\anaconda3\\envs\\fivecart\\lib\\site-packages (from huggingface-hub>=0.4.0->sentence-transformers>=0.3.8->keybert) (6.0.1)\n",
      "Requirement already satisfied: packaging>=20.9 in c:\\users\\liber\\anaconda3\\envs\\fivecart\\lib\\site-packages (from huggingface-hub>=0.4.0->sentence-transformers>=0.3.8->keybert) (23.1)\n",
      "Requirement already satisfied: mdurl~=0.1 in c:\\users\\liber\\anaconda3\\envs\\fivecart\\lib\\site-packages (from markdown-it-py>=2.2.0->rich>=10.4.0->keybert) (0.1.2)\n",
      "Requirement already satisfied: sympy in c:\\users\\liber\\anaconda3\\envs\\fivecart\\lib\\site-packages (from torch>=1.6.0->sentence-transformers>=0.3.8->keybert) (1.12)\n",
      "Requirement already satisfied: networkx in c:\\users\\liber\\anaconda3\\envs\\fivecart\\lib\\site-packages (from torch>=1.6.0->sentence-transformers>=0.3.8->keybert) (3.1)\n",
      "Requirement already satisfied: jinja2 in c:\\users\\liber\\anaconda3\\envs\\fivecart\\lib\\site-packages (from torch>=1.6.0->sentence-transformers>=0.3.8->keybert) (3.1.2)\n",
      "Requirement already satisfied: colorama in c:\\users\\liber\\anaconda3\\envs\\fivecart\\lib\\site-packages (from tqdm->sentence-transformers>=0.3.8->keybert) (0.4.6)\n",
      "Requirement already satisfied: regex!=2019.12.17 in c:\\users\\liber\\anaconda3\\envs\\fivecart\\lib\\site-packages (from transformers<5.0.0,>=4.6.0->sentence-transformers>=0.3.8->keybert) (2023.8.8)\n",
      "Requirement already satisfied: tokenizers!=0.11.3,<0.14,>=0.11.1 in c:\\users\\liber\\anaconda3\\envs\\fivecart\\lib\\site-packages (from transformers<5.0.0,>=4.6.0->sentence-transformers>=0.3.8->keybert) (0.13.3)\n",
      "Requirement already satisfied: safetensors>=0.3.1 in c:\\users\\liber\\anaconda3\\envs\\fivecart\\lib\\site-packages (from transformers<5.0.0,>=4.6.0->sentence-transformers>=0.3.8->keybert) (0.3.3)\n",
      "Requirement already satisfied: click in c:\\users\\liber\\anaconda3\\envs\\fivecart\\lib\\site-packages (from nltk->sentence-transformers>=0.3.8->keybert) (8.1.7)\n",
      "Collecting torch>=1.6.0 (from sentence-transformers>=0.3.8->keybert)\n",
      "  Using cached torch-2.0.1-cp38-cp38-win_amd64.whl (172.4 MB)\n",
      "Requirement already satisfied: pillow!=8.3.*,>=5.3.0 in c:\\users\\liber\\anaconda3\\envs\\fivecart\\lib\\site-packages (from torchvision->sentence-transformers>=0.3.8->keybert) (10.0.1)\n",
      "Requirement already satisfied: MarkupSafe>=2.0 in c:\\users\\liber\\anaconda3\\envs\\fivecart\\lib\\site-packages (from jinja2->torch>=1.6.0->sentence-transformers>=0.3.8->keybert) (2.1.1)\n",
      "Requirement already satisfied: charset-normalizer<4,>=2 in c:\\users\\liber\\anaconda3\\envs\\fivecart\\lib\\site-packages (from requests->huggingface-hub>=0.4.0->sentence-transformers>=0.3.8->keybert) (3.2.0)\n",
      "Requirement already satisfied: idna<4,>=2.5 in c:\\users\\liber\\anaconda3\\envs\\fivecart\\lib\\site-packages (from requests->huggingface-hub>=0.4.0->sentence-transformers>=0.3.8->keybert) (3.4)\n",
      "Requirement already satisfied: urllib3<3,>=1.21.1 in c:\\users\\liber\\appdata\\roaming\\python\\python38\\site-packages (from requests->huggingface-hub>=0.4.0->sentence-transformers>=0.3.8->keybert) (1.26.16)\n",
      "Requirement already satisfied: certifi>=2017.4.17 in c:\\users\\liber\\anaconda3\\envs\\fivecart\\lib\\site-packages (from requests->huggingface-hub>=0.4.0->sentence-transformers>=0.3.8->keybert) (2023.7.22)\n",
      "Requirement already satisfied: mpmath>=0.19 in c:\\users\\liber\\anaconda3\\envs\\fivecart\\lib\\site-packages (from sympy->torch>=1.6.0->sentence-transformers>=0.3.8->keybert) (1.3.0)\n",
      "Installing collected packages: torch\n",
      "  Attempting uninstall: torch\n",
      "    Found existing installation: torch 2.0.0\n",
      "    Uninstalling torch-2.0.0:\n",
      "      Successfully uninstalled torch-2.0.0\n",
      "Successfully installed torch-2.0.1\n"
     ]
    },
    {
     "name": "stderr",
     "output_type": "stream",
     "text": [
      "ERROR: pip's dependency resolver does not currently take into account all the packages that are installed. This behaviour is the source of the following dependency conflicts.\n",
      "transformer-smaller-training-vocab 0.3.2 requires torch!=2.0.1,<3.0.0,>=1.8.0, but you have torch 2.0.1 which is incompatible.\n"
     ]
    }
   ],
   "source": [
    "!pip install keybert"
   ]
  },
  {
   "cell_type": "code",
   "execution_count": 3,
   "id": "36d15210",
   "metadata": {
    "scrolled": true
   },
   "outputs": [
    {
     "name": "stderr",
     "output_type": "stream",
     "text": [
      "C:\\Users\\liber\\anaconda3\\envs\\fiveCart\\lib\\site-packages\\tqdm\\auto.py:21: TqdmWarning: IProgress not found. Please update jupyter and ipywidgets. See https://ipywidgets.readthedocs.io/en/stable/user_install.html\n",
      "  from .autonotebook import tqdm as notebook_tqdm\n"
     ]
    }
   ],
   "source": [
    "#Sentence Transformers \n",
    "from sentence_transformers import SentenceTransformer\n",
    "#modelname = 'all-mpnet-base-v2'\n",
    "modelname = 'distiluse-base-multilingual-cased-v1'\n",
    "model = SentenceTransformer(modelname)"
   ]
  },
  {
   "cell_type": "code",
   "execution_count": 167,
   "id": "546f2a76",
   "metadata": {},
   "outputs": [
    {
     "name": "stdout",
     "output_type": "stream",
     "text": [
      "Similarity: tensor([[0.6286, 0.4823]])\n"
     ]
    }
   ],
   "source": [
    "from sentence_transformers import SentenceTransformer, util\n",
    "model = SentenceTransformer(modelname)\n",
    "\n",
    "query_embedding = model.encode('How big is London')\n",
    "passage_embedding = model.encode(['London has 9,787,426 inhabitants at the 2011 census',\n",
    "                                  'London is known for its finacial district'])\n",
    "\n",
    "print(\"Similarity:\", util.dot_score(query_embedding, passage_embedding))"
   ]
  },
  {
   "cell_type": "code",
   "execution_count": 4,
   "id": "93c3a084",
   "metadata": {},
   "outputs": [],
   "source": [
    "from keybert import KeyBERT\n",
    "from sentence_transformers import SentenceTransformer"
   ]
  },
  {
   "cell_type": "code",
   "execution_count": 5,
   "id": "abac155b",
   "metadata": {},
   "outputs": [],
   "source": [
    "modelname = 'distiluse-base-multilingual-cased-v1'\n",
    "model = SentenceTransformer(modelname)\n",
    "kw_model = KeyBERT(model)"
   ]
  },
  {
   "cell_type": "code",
   "execution_count": 9,
   "id": "a72d2278",
   "metadata": {},
   "outputs": [],
   "source": [
    "document = \"\"\"\n",
    "            한국의 수도는 서울이며, 대표적인 관광지로는 경복궁, 덕수궁, 남산 타워 등이 있습니다.\n",
    "            한국은 한반도에 위치하며, 서울은 대한민국의 수도입니다.\n",
    "            \"\"\""
   ]
  },
  {
   "cell_type": "code",
   "execution_count": 7,
   "id": "a00b3816",
   "metadata": {},
   "outputs": [],
   "source": [
    "doc = \"\"\"\n",
    "         Supervised learning is the machine learning task of learning a function that\n",
    "         maps an input to an output based on example input-output pairs. It infers a\n",
    "         function from labeled training data consisting of a set of training examples.\n",
    "         In supervised learning, each example is a pair consisting of an input object\n",
    "         (typically a vector) and a desired output value (also called the supervisory signal).\n",
    "         A supervised learning algorithm analyzes the training data and produces an inferred function,\n",
    "         which can be used for mapping new examples. An optimal scenario will allow for the\n",
    "         algorithm to correctly determine the class labels for unseen instances. This requires\n",
    "         the learning algorithm to generalize from the training data to unseen situations in a\n",
    "         'reasonable' way (see inductive bias).\n",
    "      \"\"\"\n",
    "keywords = kw_model.extract_keywords(document)"
   ]
  },
  {
   "cell_type": "code",
   "execution_count": 8,
   "id": "a791fab2",
   "metadata": {
    "scrolled": true
   },
   "outputs": [
    {
     "data": {
      "text/plain": [
       "[('서울이며', 0.4386),\n",
       " ('서울은', 0.4364),\n",
       " ('한국은', 0.3665),\n",
       " ('한반도에', 0.3538),\n",
       " ('한국의', 0.336)]"
      ]
     },
     "execution_count": 8,
     "metadata": {},
     "output_type": "execute_result"
    }
   ],
   "source": [
    "keywords"
   ]
  },
  {
   "cell_type": "code",
   "execution_count": 9,
   "id": "2d90ee98",
   "metadata": {},
   "outputs": [
    {
     "data": {
      "text/plain": [
       "[('서울은 대한민국의', 0.5274),\n",
       " ('수도는 서울이며', 0.5263),\n",
       " ('서울이며 대표적인', 0.5125),\n",
       " ('위치하며 서울은', 0.5115),\n",
       " ('한국은 한반도에', 0.4796)]"
      ]
     },
     "execution_count": 9,
     "metadata": {},
     "output_type": "execute_result"
    }
   ],
   "source": [
    "kw_model.extract_keywords(document, keyphrase_ngram_range=(1, 2), stop_words=None)"
   ]
  },
  {
   "cell_type": "code",
   "execution_count": null,
   "id": "77eba9c9",
   "metadata": {},
   "outputs": [],
   "source": [
    "#flair 적용 시작"
   ]
  },
  {
   "cell_type": "code",
   "execution_count": 5,
   "id": "e12c9b17",
   "metadata": {
    "scrolled": true
   },
   "outputs": [
    {
     "name": "stdout",
     "output_type": "stream",
     "text": [
      "Requirement already satisfied: flair in c:\\users\\liber\\appdata\\roaming\\python\\python38\\site-packages (0.12.2)\n",
      "Requirement already satisfied: python-dateutil>=2.6.1 in c:\\users\\liber\\anaconda3\\envs\\fivecart\\lib\\site-packages (from flair) (2.8.2)\n",
      "Requirement already satisfied: torch!=1.8,>=1.5.0 in c:\\users\\liber\\appdata\\roaming\\python\\python38\\site-packages (from flair) (2.0.0)\n",
      "Requirement already satisfied: gensim>=3.8.0 in c:\\users\\liber\\appdata\\roaming\\python\\python38\\site-packages (from flair) (4.3.2)\n",
      "Requirement already satisfied: tqdm>=4.26.0 in c:\\users\\liber\\anaconda3\\envs\\fivecart\\lib\\site-packages (from flair) (4.66.1)\n",
      "Requirement already satisfied: segtok>=1.5.7 in c:\\users\\liber\\appdata\\roaming\\python\\python38\\site-packages (from flair) (1.5.11)\n",
      "Requirement already satisfied: matplotlib>=2.2.3 in c:\\users\\liber\\appdata\\roaming\\python\\python38\\site-packages (from flair) (3.7.3)\n",
      "Requirement already satisfied: mpld3==0.3 in c:\\users\\liber\\appdata\\roaming\\python\\python38\\site-packages (from flair) (0.3)\n",
      "Requirement already satisfied: scikit-learn>=0.21.3 in c:\\users\\liber\\anaconda3\\envs\\fivecart\\lib\\site-packages (from flair) (1.3.1)\n",
      "Requirement already satisfied: sqlitedict>=1.6.0 in c:\\users\\liber\\appdata\\roaming\\python\\python38\\site-packages (from flair) (2.1.0)\n",
      "Requirement already satisfied: deprecated>=1.2.4 in c:\\users\\liber\\appdata\\roaming\\python\\python38\\site-packages (from flair) (1.2.14)\n",
      "Requirement already satisfied: hyperopt>=0.2.7 in c:\\users\\liber\\appdata\\roaming\\python\\python38\\site-packages (from flair) (0.2.7)\n",
      "Requirement already satisfied: boto3 in c:\\users\\liber\\appdata\\roaming\\python\\python38\\site-packages (from flair) (1.28.53)\n",
      "Requirement already satisfied: transformers[sentencepiece]>=4.18.0 in c:\\users\\liber\\anaconda3\\envs\\fivecart\\lib\\site-packages (from flair) (4.33.2)\n",
      "Requirement already satisfied: bpemb>=0.3.2 in c:\\users\\liber\\appdata\\roaming\\python\\python38\\site-packages (from flair) (0.3.4)\n",
      "Requirement already satisfied: regex in c:\\users\\liber\\anaconda3\\envs\\fivecart\\lib\\site-packages (from flair) (2023.8.8)\n",
      "Requirement already satisfied: tabulate in c:\\users\\liber\\appdata\\roaming\\python\\python38\\site-packages (from flair) (0.9.0)\n",
      "Requirement already satisfied: langdetect in c:\\users\\liber\\appdata\\roaming\\python\\python38\\site-packages (from flair) (1.0.9)\n",
      "Requirement already satisfied: lxml in c:\\users\\liber\\anaconda3\\envs\\fivecart\\lib\\site-packages (from flair) (4.9.2)\n",
      "Requirement already satisfied: ftfy in c:\\users\\liber\\appdata\\roaming\\python\\python38\\site-packages (from flair) (6.1.1)\n",
      "Requirement already satisfied: janome in c:\\users\\liber\\appdata\\roaming\\python\\python38\\site-packages (from flair) (0.5.0)\n",
      "Requirement already satisfied: gdown==4.4.0 in c:\\users\\liber\\appdata\\roaming\\python\\python38\\site-packages (from flair) (4.4.0)\n",
      "Requirement already satisfied: huggingface-hub>=0.10.0 in c:\\users\\liber\\anaconda3\\envs\\fivecart\\lib\\site-packages (from flair) (0.17.2)\n",
      "Requirement already satisfied: conllu>=4.0 in c:\\users\\liber\\appdata\\roaming\\python\\python38\\site-packages (from flair) (4.5.3)\n",
      "Requirement already satisfied: more-itertools in c:\\users\\liber\\appdata\\roaming\\python\\python38\\site-packages (from flair) (10.1.0)\n",
      "Requirement already satisfied: wikipedia-api in c:\\users\\liber\\appdata\\roaming\\python\\python38\\site-packages (from flair) (0.6.0)\n",
      "Requirement already satisfied: pptree in c:\\users\\liber\\appdata\\roaming\\python\\python38\\site-packages (from flair) (3.1)\n",
      "Requirement already satisfied: pytorch-revgrad in c:\\users\\liber\\appdata\\roaming\\python\\python38\\site-packages (from flair) (0.2.0)\n",
      "Requirement already satisfied: transformer-smaller-training-vocab>=0.2.1 in c:\\users\\liber\\appdata\\roaming\\python\\python38\\site-packages (from flair) (0.3.2)\n",
      "Requirement already satisfied: filelock in c:\\users\\liber\\anaconda3\\envs\\fivecart\\lib\\site-packages (from gdown==4.4.0->flair) (3.12.4)\n",
      "Requirement already satisfied: requests[socks] in c:\\users\\liber\\anaconda3\\envs\\fivecart\\lib\\site-packages (from gdown==4.4.0->flair) (2.31.0)\n",
      "Requirement already satisfied: six in c:\\users\\liber\\anaconda3\\envs\\fivecart\\lib\\site-packages (from gdown==4.4.0->flair) (1.16.0)\n",
      "Requirement already satisfied: beautifulsoup4 in c:\\users\\liber\\anaconda3\\envs\\fivecart\\lib\\site-packages (from gdown==4.4.0->flair) (4.12.2)\n",
      "Requirement already satisfied: numpy in c:\\users\\liber\\anaconda3\\envs\\fivecart\\lib\\site-packages (from bpemb>=0.3.2->flair) (1.24.4)\n",
      "Requirement already satisfied: sentencepiece in c:\\users\\liber\\anaconda3\\envs\\fivecart\\lib\\site-packages (from bpemb>=0.3.2->flair) (0.1.99)\n",
      "Requirement already satisfied: wrapt<2,>=1.10 in c:\\users\\liber\\appdata\\roaming\\python\\python38\\site-packages (from deprecated>=1.2.4->flair) (1.15.0)\n",
      "Requirement already satisfied: scipy>=1.7.0 in c:\\users\\liber\\anaconda3\\envs\\fivecart\\lib\\site-packages (from gensim>=3.8.0->flair) (1.10.1)\n",
      "Requirement already satisfied: smart-open>=1.8.1 in c:\\users\\liber\\appdata\\roaming\\python\\python38\\site-packages (from gensim>=3.8.0->flair) (6.4.0)\n",
      "Requirement already satisfied: fsspec in c:\\users\\liber\\anaconda3\\envs\\fivecart\\lib\\site-packages (from huggingface-hub>=0.10.0->flair) (2023.9.2)\n",
      "Requirement already satisfied: pyyaml>=5.1 in c:\\users\\liber\\anaconda3\\envs\\fivecart\\lib\\site-packages (from huggingface-hub>=0.10.0->flair) (6.0.1)\n",
      "Requirement already satisfied: typing-extensions>=3.7.4.3 in c:\\users\\liber\\anaconda3\\envs\\fivecart\\lib\\site-packages (from huggingface-hub>=0.10.0->flair) (4.7.1)\n",
      "Requirement already satisfied: packaging>=20.9 in c:\\users\\liber\\anaconda3\\envs\\fivecart\\lib\\site-packages (from huggingface-hub>=0.10.0->flair) (23.1)\n",
      "Requirement already satisfied: networkx>=2.2 in c:\\users\\liber\\anaconda3\\envs\\fivecart\\lib\\site-packages (from hyperopt>=0.2.7->flair) (3.1)\n",
      "Requirement already satisfied: future in c:\\users\\liber\\appdata\\roaming\\python\\python38\\site-packages (from hyperopt>=0.2.7->flair) (0.18.3)\n",
      "Requirement already satisfied: cloudpickle in c:\\users\\liber\\appdata\\roaming\\python\\python38\\site-packages (from hyperopt>=0.2.7->flair) (2.2.1)\n",
      "Requirement already satisfied: py4j in c:\\users\\liber\\appdata\\roaming\\python\\python38\\site-packages (from hyperopt>=0.2.7->flair) (0.10.9.7)\n",
      "Requirement already satisfied: contourpy>=1.0.1 in c:\\users\\liber\\appdata\\roaming\\python\\python38\\site-packages (from matplotlib>=2.2.3->flair) (1.1.1)\n",
      "Requirement already satisfied: cycler>=0.10 in c:\\users\\liber\\appdata\\roaming\\python\\python38\\site-packages (from matplotlib>=2.2.3->flair) (0.11.0)\n",
      "Requirement already satisfied: fonttools>=4.22.0 in c:\\users\\liber\\appdata\\roaming\\python\\python38\\site-packages (from matplotlib>=2.2.3->flair) (4.42.1)\n",
      "Requirement already satisfied: kiwisolver>=1.0.1 in c:\\users\\liber\\appdata\\roaming\\python\\python38\\site-packages (from matplotlib>=2.2.3->flair) (1.4.5)\n",
      "Requirement already satisfied: pillow>=6.2.0 in c:\\users\\liber\\anaconda3\\envs\\fivecart\\lib\\site-packages (from matplotlib>=2.2.3->flair) (10.0.1)\n",
      "Requirement already satisfied: pyparsing>=2.3.1 in c:\\users\\liber\\appdata\\roaming\\python\\python38\\site-packages (from matplotlib>=2.2.3->flair) (3.1.1)\n",
      "Requirement already satisfied: importlib-resources>=3.2.0 in c:\\users\\liber\\anaconda3\\envs\\fivecart\\lib\\site-packages (from matplotlib>=2.2.3->flair) (5.2.0)\n",
      "Requirement already satisfied: joblib>=1.1.1 in c:\\users\\liber\\anaconda3\\envs\\fivecart\\lib\\site-packages (from scikit-learn>=0.21.3->flair) (1.3.2)\n",
      "Requirement already satisfied: threadpoolctl>=2.0.0 in c:\\users\\liber\\anaconda3\\envs\\fivecart\\lib\\site-packages (from scikit-learn>=0.21.3->flair) (3.2.0)\n",
      "Requirement already satisfied: sympy in c:\\users\\liber\\anaconda3\\envs\\fivecart\\lib\\site-packages (from torch!=1.8,>=1.5.0->flair) (1.12)\n",
      "Requirement already satisfied: jinja2 in c:\\users\\liber\\anaconda3\\envs\\fivecart\\lib\\site-packages (from torch!=1.8,>=1.5.0->flair) (3.1.2)\n",
      "Requirement already satisfied: colorama in c:\\users\\liber\\anaconda3\\envs\\fivecart\\lib\\site-packages (from tqdm>=4.26.0->flair) (0.4.6)\n",
      "Requirement already satisfied: tokenizers!=0.11.3,<0.14,>=0.11.1 in c:\\users\\liber\\anaconda3\\envs\\fivecart\\lib\\site-packages (from transformers[sentencepiece]>=4.18.0->flair) (0.13.3)\n",
      "Requirement already satisfied: safetensors>=0.3.1 in c:\\users\\liber\\anaconda3\\envs\\fivecart\\lib\\site-packages (from transformers[sentencepiece]>=4.18.0->flair) (0.3.3)\n",
      "Requirement already satisfied: protobuf in c:\\users\\liber\\appdata\\roaming\\python\\python38\\site-packages (from transformers[sentencepiece]>=4.18.0->flair) (4.24.3)\n",
      "Requirement already satisfied: botocore<1.32.0,>=1.31.53 in c:\\users\\liber\\appdata\\roaming\\python\\python38\\site-packages (from boto3->flair) (1.31.53)\n",
      "Requirement already satisfied: jmespath<2.0.0,>=0.7.1 in c:\\users\\liber\\appdata\\roaming\\python\\python38\\site-packages (from boto3->flair) (1.0.1)\n",
      "Requirement already satisfied: s3transfer<0.7.0,>=0.6.0 in c:\\users\\liber\\appdata\\roaming\\python\\python38\\site-packages (from boto3->flair) (0.6.2)\n",
      "Requirement already satisfied: wcwidth>=0.2.5 in c:\\users\\liber\\anaconda3\\envs\\fivecart\\lib\\site-packages (from ftfy->flair) (0.2.5)\n",
      "Requirement already satisfied: urllib3<1.27,>=1.25.4 in c:\\users\\liber\\appdata\\roaming\\python\\python38\\site-packages (from botocore<1.32.0,>=1.31.53->boto3->flair) (1.26.16)\n",
      "Requirement already satisfied: zipp>=3.1.0 in c:\\users\\liber\\anaconda3\\envs\\fivecart\\lib\\site-packages (from importlib-resources>=3.2.0->matplotlib>=2.2.3->flair) (3.11.0)\n",
      "Requirement already satisfied: accelerate>=0.20.3 in c:\\users\\liber\\appdata\\roaming\\python\\python38\\site-packages (from transformers[sentencepiece]>=4.18.0->flair) (0.23.0)\n",
      "Requirement already satisfied: soupsieve>1.2 in c:\\users\\liber\\anaconda3\\envs\\fivecart\\lib\\site-packages (from beautifulsoup4->gdown==4.4.0->flair) (2.4)\n",
      "Requirement already satisfied: MarkupSafe>=2.0 in c:\\users\\liber\\anaconda3\\envs\\fivecart\\lib\\site-packages (from jinja2->torch!=1.8,>=1.5.0->flair) (2.1.1)\n",
      "Requirement already satisfied: charset-normalizer<4,>=2 in c:\\users\\liber\\anaconda3\\envs\\fivecart\\lib\\site-packages (from requests[socks]->gdown==4.4.0->flair) (3.2.0)\n",
      "Requirement already satisfied: idna<4,>=2.5 in c:\\users\\liber\\anaconda3\\envs\\fivecart\\lib\\site-packages (from requests[socks]->gdown==4.4.0->flair) (3.4)\n",
      "Requirement already satisfied: certifi>=2017.4.17 in c:\\users\\liber\\anaconda3\\envs\\fivecart\\lib\\site-packages (from requests[socks]->gdown==4.4.0->flair) (2023.7.22)\n",
      "Requirement already satisfied: PySocks!=1.5.7,>=1.5.6 in c:\\users\\liber\\appdata\\roaming\\python\\python38\\site-packages (from requests[socks]->gdown==4.4.0->flair) (1.7.1)\n",
      "Requirement already satisfied: mpmath>=0.19 in c:\\users\\liber\\anaconda3\\envs\\fivecart\\lib\\site-packages (from sympy->torch!=1.8,>=1.5.0->flair) (1.3.0)\n",
      "Requirement already satisfied: psutil in c:\\users\\liber\\anaconda3\\envs\\fivecart\\lib\\site-packages (from accelerate>=0.20.3->transformers[sentencepiece]>=4.18.0->flair) (5.9.0)\n"
     ]
    }
   ],
   "source": [
    "!pip install --user flair\n",
    "import flair"
   ]
  },
  {
   "cell_type": "code",
   "execution_count": 6,
   "id": "b9ff697a",
   "metadata": {
    "scrolled": true
   },
   "outputs": [],
   "source": [
    "from keybert import KeyBERT\n",
    "from flair.embeddings import TransformerDocumentEmbeddings\n",
    "\n",
    "roberta = TransformerDocumentEmbeddings('roberta-base')\n",
    "kw_model = KeyBERT(model=roberta)"
   ]
  },
  {
   "cell_type": "code",
   "execution_count": 7,
   "id": "439d71da",
   "metadata": {},
   "outputs": [],
   "source": [
    "from keybert import KeyBERT\n",
    "from flair.embeddings import TransformerDocumentEmbeddings\n",
    "\n",
    "roberta = TransformerDocumentEmbeddings('klue/roberta-base')\n",
    "kw_model = KeyBERT(model=roberta)"
   ]
  },
  {
   "cell_type": "code",
   "execution_count": 10,
   "id": "de2235f5",
   "metadata": {
    "scrolled": true
   },
   "outputs": [
    {
     "data": {
      "text/plain": [
       "[('수도는 서울이며', 0.9882),\n",
       " ('관광지로는 경복궁', 0.9868),\n",
       " ('대한민국의 수도입니다', 0.9865),\n",
       " ('대표적인 관광지로는', 0.9864),\n",
       " ('서울은 대한민국의', 0.9863)]"
      ]
     },
     "execution_count": 10,
     "metadata": {},
     "output_type": "execute_result"
    }
   ],
   "source": [
    "kw_model.extract_keywords(document, keyphrase_ngram_range=(1, 2), stop_words=None)"
   ]
  },
  {
   "cell_type": "code",
   "execution_count": 16,
   "id": "acb2df0e",
   "metadata": {},
   "outputs": [
    {
     "data": {
      "text/plain": [
       "[('서울이며', 0.9861),\n",
       " ('관광지로는', 0.9849),\n",
       " ('수도입니다', 0.9847),\n",
       " ('있습니다', 0.9847),\n",
       " ('한국의', 0.9839)]"
      ]
     },
     "execution_count": 16,
     "metadata": {},
     "output_type": "execute_result"
    }
   ],
   "source": [
    "kw_model.extract_keywords(document, keyphrase_ngram_range=(1, 1), stop_words=None)"
   ]
  },
  {
   "cell_type": "code",
   "execution_count": null,
   "id": "fb146054",
   "metadata": {},
   "outputs": [],
   "source": []
  }
 ],
 "metadata": {
  "kernelspec": {
   "display_name": "Python 3 (ipykernel)",
   "language": "python",
   "name": "python3"
  },
  "language_info": {
   "codemirror_mode": {
    "name": "ipython",
    "version": 3
   },
   "file_extension": ".py",
   "mimetype": "text/x-python",
   "name": "python",
   "nbconvert_exporter": "python",
   "pygments_lexer": "ipython3",
   "version": "3.8.18"
  }
 },
 "nbformat": 4,
 "nbformat_minor": 5
}
