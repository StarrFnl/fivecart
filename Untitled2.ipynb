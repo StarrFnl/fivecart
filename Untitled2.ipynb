{
 "cells": [
  {
   "cell_type": "code",
   "execution_count": 1,
   "id": "86d6a839",
   "metadata": {},
   "outputs": [],
   "source": [
    "import pandas as pd"
   ]
  },
  {
   "cell_type": "code",
   "execution_count": 56,
   "id": "43067050",
   "metadata": {
    "scrolled": false
   },
   "outputs": [
    {
     "data": {
      "text/html": [
       "<div>\n",
       "<style scoped>\n",
       "    .dataframe tbody tr th:only-of-type {\n",
       "        vertical-align: middle;\n",
       "    }\n",
       "\n",
       "    .dataframe tbody tr th {\n",
       "        vertical-align: top;\n",
       "    }\n",
       "\n",
       "    .dataframe thead th {\n",
       "        text-align: right;\n",
       "    }\n",
       "</style>\n",
       "<table border=\"1\" class=\"dataframe\">\n",
       "  <thead>\n",
       "    <tr style=\"text-align: right;\">\n",
       "      <th></th>\n",
       "      <th>report_writer</th>\n",
       "      <th>date_writer</th>\n",
       "      <th>title</th>\n",
       "      <th>book_writer</th>\n",
       "      <th>book_company</th>\n",
       "      <th>book_date</th>\n",
       "      <th>report_text</th>\n",
       "    </tr>\n",
       "  </thead>\n",
       "  <tbody>\n",
       "    <tr>\n",
       "      <th>0</th>\n",
       "      <td>박유담</td>\n",
       "      <td>2022/05/02</td>\n",
       "      <td>군주론</td>\n",
       "      <td>마키아벨리</td>\n",
       "      <td>현대지성</td>\n",
       "      <td>2021/07/26</td>\n",
       "      <td>마키아벨리의 군주론을 읽고21세기를 살아가고 있는 우리에게 리더의 역할은 더욱...</td>\n",
       "    </tr>\n",
       "    <tr>\n",
       "      <th>1</th>\n",
       "      <td>혜화동선비</td>\n",
       "      <td>2022/05/02</td>\n",
       "      <td>연암 박지원에게 중국을 답하다</td>\n",
       "      <td>유광종</td>\n",
       "      <td>크레듀하우(CreduHawoo)</td>\n",
       "      <td>2007/05/10</td>\n",
       "      <td>네모와 동그라미로 바라본 중국 우리나라보다 더 큰 행정구역인 성 23개, 5개...</td>\n",
       "    </tr>\n",
       "    <tr>\n",
       "      <th>2</th>\n",
       "      <td>혜화동선비</td>\n",
       "      <td>2022/04/28</td>\n",
       "      <td>주자청 산문정선</td>\n",
       "      <td>편집부</td>\n",
       "      <td>인민문학출판사(중국)</td>\n",
       "      <td>2006/10/01</td>\n",
       "      <td>서정성 속에 빛나는 인간미      주자청은 현대 중국의 시인이자 평...</td>\n",
       "    </tr>\n",
       "    <tr>\n",
       "      <th>3</th>\n",
       "      <td>밤톨이</td>\n",
       "      <td>2022/04/28</td>\n",
       "      <td>동급생</td>\n",
       "      <td>프레드 울만</td>\n",
       "      <td>열린책들</td>\n",
       "      <td>2017/02/10</td>\n",
       "      <td>그는 1932년 2월에 내 삶으로 들어와서 다시는 떠나지 않았다.-『동급생』 ...</td>\n",
       "    </tr>\n",
       "    <tr>\n",
       "      <th>4</th>\n",
       "      <td>여룬</td>\n",
       "      <td>2022/04/27</td>\n",
       "      <td>소수 공상 (질서와 혼돈의 경계 어딘가에서 우리를 기다리는 소수에 대한 몇 가지 상상)</td>\n",
       "      <td>김민형</td>\n",
       "      <td>반니</td>\n",
       "      <td>2013/10/10</td>\n",
       "      <td>21번째 소수는 73인데 21=3x7이다. 게다가 12번째 소수는 37이다.(...</td>\n",
       "    </tr>\n",
       "  </tbody>\n",
       "</table>\n",
       "</div>"
      ],
      "text/plain": [
       "  report_writer date_writer                                             title  \\\n",
       "0           박유담  2022/05/02                                               군주론   \n",
       "1         혜화동선비  2022/05/02                                  연암 박지원에게 중국을 답하다   \n",
       "2         혜화동선비  2022/04/28                                          주자청 산문정선   \n",
       "3           밤톨이  2022/04/28                                               동급생   \n",
       "4            여룬  2022/04/27  소수 공상 (질서와 혼돈의 경계 어딘가에서 우리를 기다리는 소수에 대한 몇 가지 상상)   \n",
       "\n",
       "  book_writer       book_company   book_date  \\\n",
       "0       마키아벨리               현대지성  2021/07/26   \n",
       "1         유광종  크레듀하우(CreduHawoo)  2007/05/10   \n",
       "2         편집부        인민문학출판사(중국)  2006/10/01   \n",
       "3      프레드 울만               열린책들  2017/02/10   \n",
       "4         김민형                 반니  2013/10/10   \n",
       "\n",
       "                                         report_text  \n",
       "0     마키아벨리의 군주론을 읽고21세기를 살아가고 있는 우리에게 리더의 역할은 더욱...  \n",
       "1     네모와 동그라미로 바라본 중국 우리나라보다 더 큰 행정구역인 성 23개, 5개...  \n",
       "2          서정성 속에 빛나는 인간미      주자청은 현대 중국의 시인이자 평...  \n",
       "3     그는 1932년 2월에 내 삶으로 들어와서 다시는 떠나지 않았다.-『동급생』 ...  \n",
       "4     21번째 소수는 73인데 21=3x7이다. 게다가 12번째 소수는 37이다.(...  "
      ]
     },
     "execution_count": 56,
     "metadata": {},
     "output_type": "execute_result"
    }
   ],
   "source": [
    "data = pd.read_csv(\"./fivecart_reports_1.csv\")\n",
    "data.head(5)"
   ]
  },
  {
   "cell_type": "code",
   "execution_count": 57,
   "id": "f124d62d",
   "metadata": {},
   "outputs": [],
   "source": [
    "df = data.replace('유럽,정원을 거닐다', '유럽, 정원을 거닐다')#세계의정원과문화 수업교재 독후감 과제 있는 것으로 확인 "
   ]
  },
  {
   "cell_type": "code",
   "execution_count": 61,
   "id": "e8b935ac",
   "metadata": {},
   "outputs": [
    {
     "data": {
      "text/plain": [
       "title\n",
       "이중나선                                         72\n",
       "생각의 지도                                       80\n",
       "코스모스                                         80\n",
       "과학혁명의 구조                                     85\n",
       "무지개를 풀며                                      89\n",
       "오만과 편견                                       95\n",
       "부분과 전체 (정식 한국어판)                             96\n",
       "논어                                          100\n",
       "구운몽                                         102\n",
       "김창숙 문존                                      117\n",
       "2030 에너지전쟁 (과거에서 미래까지 에너지는 세계를 어떻게 바꾸는가)    121\n",
       "침묵의 봄                                       127\n",
       "변신                                          128\n",
       "잡초는 없다                                      132\n",
       "도덕경 (사회복지학자가 읽은 노자)                         135\n",
       "화학의 시대                                      144\n",
       "이방인                                         150\n",
       "이기적 유전자                                     152\n",
       "엔트로피                                        199\n",
       "유럽, 정원을 거닐다                                 365\n",
       "dtype: int64"
      ]
     },
     "execution_count": 61,
     "metadata": {},
     "output_type": "execute_result"
    }
   ],
   "source": [
    "df.groupby('title').size().sort_values().tail(20)"
   ]
  },
  {
   "cell_type": "code",
   "execution_count": 4,
   "id": "04527d43",
   "metadata": {},
   "outputs": [],
   "source": [
    "titles = df['title'].value_counts().rename_axis('title').reset_index(name='count')"
   ]
  },
  {
   "cell_type": "code",
   "execution_count": 5,
   "id": "06e6d386",
   "metadata": {},
   "outputs": [],
   "source": [
    "over10 = titles['count']>=10"
   ]
  },
  {
   "cell_type": "code",
   "execution_count": 6,
   "id": "e227d7f0",
   "metadata": {},
   "outputs": [
    {
     "data": {
      "text/html": [
       "<div>\n",
       "<style scoped>\n",
       "    .dataframe tbody tr th:only-of-type {\n",
       "        vertical-align: middle;\n",
       "    }\n",
       "\n",
       "    .dataframe tbody tr th {\n",
       "        vertical-align: top;\n",
       "    }\n",
       "\n",
       "    .dataframe thead th {\n",
       "        text-align: right;\n",
       "    }\n",
       "</style>\n",
       "<table border=\"1\" class=\"dataframe\">\n",
       "  <thead>\n",
       "    <tr style=\"text-align: right;\">\n",
       "      <th></th>\n",
       "      <th>title</th>\n",
       "      <th>count</th>\n",
       "    </tr>\n",
       "  </thead>\n",
       "  <tbody>\n",
       "    <tr>\n",
       "      <th>0</th>\n",
       "      <td>유럽, 정원을 거닐다</td>\n",
       "      <td>365</td>\n",
       "    </tr>\n",
       "    <tr>\n",
       "      <th>1</th>\n",
       "      <td>엔트로피</td>\n",
       "      <td>199</td>\n",
       "    </tr>\n",
       "    <tr>\n",
       "      <th>2</th>\n",
       "      <td>이기적 유전자</td>\n",
       "      <td>152</td>\n",
       "    </tr>\n",
       "    <tr>\n",
       "      <th>3</th>\n",
       "      <td>이방인</td>\n",
       "      <td>150</td>\n",
       "    </tr>\n",
       "    <tr>\n",
       "      <th>4</th>\n",
       "      <td>화학의 시대</td>\n",
       "      <td>144</td>\n",
       "    </tr>\n",
       "    <tr>\n",
       "      <th>...</th>\n",
       "      <td>...</td>\n",
       "      <td>...</td>\n",
       "    </tr>\n",
       "    <tr>\n",
       "      <th>258</th>\n",
       "      <td>눈먼 자들의 도시 (: Blindness)</td>\n",
       "      <td>10</td>\n",
       "    </tr>\n",
       "    <tr>\n",
       "      <th>259</th>\n",
       "      <td>역사를 위한 변명</td>\n",
       "      <td>10</td>\n",
       "    </tr>\n",
       "    <tr>\n",
       "      <th>260</th>\n",
       "      <td>왜 동양철학인가</td>\n",
       "      <td>10</td>\n",
       "    </tr>\n",
       "    <tr>\n",
       "      <th>261</th>\n",
       "      <td>삼국지</td>\n",
       "      <td>10</td>\n",
       "    </tr>\n",
       "    <tr>\n",
       "      <th>262</th>\n",
       "      <td>대항해 시대</td>\n",
       "      <td>10</td>\n",
       "    </tr>\n",
       "  </tbody>\n",
       "</table>\n",
       "<p>263 rows × 2 columns</p>\n",
       "</div>"
      ],
      "text/plain": [
       "                       title  count\n",
       "0                유럽, 정원을 거닐다    365\n",
       "1                       엔트로피    199\n",
       "2                    이기적 유전자    152\n",
       "3                        이방인    150\n",
       "4                     화학의 시대    144\n",
       "..                       ...    ...\n",
       "258  눈먼 자들의 도시 (: Blindness)     10\n",
       "259                역사를 위한 변명     10\n",
       "260                 왜 동양철학인가     10\n",
       "261                      삼국지     10\n",
       "262                   대항해 시대     10\n",
       "\n",
       "[263 rows x 2 columns]"
      ]
     },
     "execution_count": 6,
     "metadata": {},
     "output_type": "execute_result"
    }
   ],
   "source": [
    "titles_over10=titles[over10]\n",
    "titles_over10"
   ]
  },
  {
   "cell_type": "code",
   "execution_count": 7,
   "id": "9f6ec717",
   "metadata": {},
   "outputs": [],
   "source": [
    "import seaborn as sns\n",
    "from matplotlib import pyplot as plt\n",
    "from matplotlib import rcParams"
   ]
  },
  {
   "cell_type": "code",
   "execution_count": 11,
   "id": "e0a108ca",
   "metadata": {
    "scrolled": true
   },
   "outputs": [
    {
     "data": {
      "image/png": "[encoded data removed]",
      "text/plain": [
       "<Figure size 1080x576 with 1 Axes>"
      ]
     },
     "metadata": {
      "needs_background": "light"
     },
     "output_type": "display_data"
    }
   ],
   "source": [
    "rcParams['figure.figsize'] = 15,8\n",
    "p1 = sns.barplot(data =titles_over10, x='title', y='count')\n",
    "p1.set(xticklabels=[])\n",
    "p1.set(xlabel=None)\n",
    "p1.tick_params(bottom=False)\n",
    "p1.set_xlabel(\"Over 10\")\n",
    "plt.show()"
   ]
  },
  {
   "cell_type": "code",
   "execution_count": 12,
   "id": "edef5dd3",
   "metadata": {
    "scrolled": false
   },
   "outputs": [
    {
     "name": "stdout",
     "output_type": "stream",
     "text": [
      "report_writer\n",
      "!.!        3\n",
      "!25=i      1\n",
      "*          1\n",
      "+clare     1\n",
      "-_-?       1\n",
      "          ..\n",
      "히히         2\n",
      "히히헤헤       1\n",
      "히히힣       14\n",
      "힐트        18\n",
      "힘내라할미     25\n",
      "Length: 5510, dtype: int64\n"
     ]
    }
   ],
   "source": [
    "freq = df.groupby(['report_writer']).size()\n",
    "print(freq)"
   ]
  },
  {
   "cell_type": "code",
   "execution_count": 29,
   "id": "3179646d",
   "metadata": {},
   "outputs": [],
   "source": [
    "writer_freq = df.groupby(['report_writer']).size().rename_axis('nickname').reset_index(name='writer count')"
   ]
  },
  {
   "cell_type": "code",
   "execution_count": 30,
   "id": "5d460e99",
   "metadata": {},
   "outputs": [],
   "source": [
    "writer_freq = writer_freq.sort_values(by='writer count' ,ascending=False)"
   ]
  },
  {
   "cell_type": "code",
   "execution_count": 31,
   "id": "8a798c23",
   "metadata": {
    "scrolled": false
   },
   "outputs": [
    {
     "data": {
      "image/png": "[encoded data removed]",
      "text/plain": [
       "<Figure size 1080x576 with 1 Axes>"
      ]
     },
     "metadata": {
      "needs_background": "light"
     },
     "output_type": "display_data"
    }
   ],
   "source": [
    "writer_freq\n",
    "rcParams['figure.figsize'] = 15,8\n",
    "p1 = sns.barplot(data =writer_freq, x='nickname', y='writer count')\n",
    "p1.set(xticklabels=[])\n",
    "p1.set(xlabel=None)\n",
    "p1.tick_params(bottom=False)\n",
    "p1.set_xlabel(\"writers\")\n",
    "plt.show()"
   ]
  },
  {
   "cell_type": "code",
   "execution_count": 32,
   "id": "c39de2e2",
   "metadata": {},
   "outputs": [],
   "source": [
    "from collections import Counter"
   ]
  },
  {
   "cell_type": "code",
   "execution_count": 46,
   "id": "71e60e37",
   "metadata": {},
   "outputs": [],
   "source": [
    "writer_cnt_df = pd.DataFrame(columns = ['index' , 'freq', 'proportion'])"
   ]
  },
  {
   "cell_type": "code",
   "execution_count": 54,
   "id": "6b2bf32d",
   "metadata": {},
   "outputs": [],
   "source": [
    "N = len(writer_freq['writer count'])\n",
    "frequency = Counter(writer_freq['writer count'])\n",
    "for item in frequency:\n",
    "    writer_cnt_df.loc[item] = [str(item), int(frequency[item]), frequency[item]/N]"
   ]
  },
  {
   "cell_type": "code",
   "execution_count": 55,
   "id": "8413dfc8",
   "metadata": {
    "scrolled": true
   },
   "outputs": [
    {
     "data": {
      "text/html": [
       "<div>\n",
       "<style scoped>\n",
       "    .dataframe tbody tr th:only-of-type {\n",
       "        vertical-align: middle;\n",
       "    }\n",
       "\n",
       "    .dataframe tbody tr th {\n",
       "        vertical-align: top;\n",
       "    }\n",
       "\n",
       "    .dataframe thead th {\n",
       "        text-align: right;\n",
       "    }\n",
       "</style>\n",
       "<table border=\"1\" class=\"dataframe\">\n",
       "  <thead>\n",
       "    <tr style=\"text-align: right;\">\n",
       "      <th></th>\n",
       "      <th>index</th>\n",
       "      <th>freq</th>\n",
       "      <th>proportion</th>\n",
       "    </tr>\n",
       "  </thead>\n",
       "  <tbody>\n",
       "    <tr>\n",
       "      <th>1</th>\n",
       "      <td>1</td>\n",
       "      <td>3563</td>\n",
       "      <td>0.646642</td>\n",
       "    </tr>\n",
       "    <tr>\n",
       "      <th>2</th>\n",
       "      <td>2</td>\n",
       "      <td>662</td>\n",
       "      <td>0.120145</td>\n",
       "    </tr>\n",
       "    <tr>\n",
       "      <th>3</th>\n",
       "      <td>3</td>\n",
       "      <td>239</td>\n",
       "      <td>0.043376</td>\n",
       "    </tr>\n",
       "    <tr>\n",
       "      <th>10</th>\n",
       "      <td>10</td>\n",
       "      <td>120</td>\n",
       "      <td>0.021779</td>\n",
       "    </tr>\n",
       "    <tr>\n",
       "      <th>4</th>\n",
       "      <td>4</td>\n",
       "      <td>118</td>\n",
       "      <td>0.021416</td>\n",
       "    </tr>\n",
       "    <tr>\n",
       "      <th>...</th>\n",
       "      <td>...</td>\n",
       "      <td>...</td>\n",
       "      <td>...</td>\n",
       "    </tr>\n",
       "    <tr>\n",
       "      <th>61</th>\n",
       "      <td>61</td>\n",
       "      <td>1</td>\n",
       "      <td>0.000181</td>\n",
       "    </tr>\n",
       "    <tr>\n",
       "      <th>42</th>\n",
       "      <td>42</td>\n",
       "      <td>1</td>\n",
       "      <td>0.000181</td>\n",
       "    </tr>\n",
       "    <tr>\n",
       "      <th>51</th>\n",
       "      <td>51</td>\n",
       "      <td>1</td>\n",
       "      <td>0.000181</td>\n",
       "    </tr>\n",
       "    <tr>\n",
       "      <th>50</th>\n",
       "      <td>50</td>\n",
       "      <td>1</td>\n",
       "      <td>0.000181</td>\n",
       "    </tr>\n",
       "    <tr>\n",
       "      <th>56</th>\n",
       "      <td>56</td>\n",
       "      <td>1</td>\n",
       "      <td>0.000181</td>\n",
       "    </tr>\n",
       "  </tbody>\n",
       "</table>\n",
       "<p>69 rows × 3 columns</p>\n",
       "</div>"
      ],
      "text/plain": [
       "   index  freq  proportion\n",
       "1      1  3563    0.646642\n",
       "2      2   662    0.120145\n",
       "3      3   239    0.043376\n",
       "10    10   120    0.021779\n",
       "4      4   118    0.021416\n",
       "..   ...   ...         ...\n",
       "61    61     1    0.000181\n",
       "42    42     1    0.000181\n",
       "51    51     1    0.000181\n",
       "50    50     1    0.000181\n",
       "56    56     1    0.000181\n",
       "\n",
       "[69 rows x 3 columns]"
      ]
     },
     "execution_count": 55,
     "metadata": {},
     "output_type": "execute_result"
    }
   ],
   "source": [
    "writer_cnt_df.sort_values(by='freq' ,ascending=False)"
   ]
  },
  {
   "cell_type": "code",
   "execution_count": 63,
   "id": "49b80e41",
   "metadata": {},
   "outputs": [
    {
     "data": {
      "text/html": [
       "<div>\n",
       "<style scoped>\n",
       "    .dataframe tbody tr th:only-of-type {\n",
       "        vertical-align: middle;\n",
       "    }\n",
       "\n",
       "    .dataframe tbody tr th {\n",
       "        vertical-align: top;\n",
       "    }\n",
       "\n",
       "    .dataframe thead th {\n",
       "        text-align: right;\n",
       "    }\n",
       "</style>\n",
       "<table border=\"1\" class=\"dataframe\">\n",
       "  <thead>\n",
       "    <tr style=\"text-align: right;\">\n",
       "      <th></th>\n",
       "      <th>index</th>\n",
       "      <th>freq</th>\n",
       "      <th>proportion</th>\n",
       "    </tr>\n",
       "  </thead>\n",
       "  <tbody>\n",
       "    <tr>\n",
       "      <th>10</th>\n",
       "      <td>10</td>\n",
       "      <td>120</td>\n",
       "      <td>0.021779</td>\n",
       "    </tr>\n",
       "    <tr>\n",
       "      <th>9</th>\n",
       "      <td>9</td>\n",
       "      <td>30</td>\n",
       "      <td>0.005445</td>\n",
       "    </tr>\n",
       "    <tr>\n",
       "      <th>8</th>\n",
       "      <td>8</td>\n",
       "      <td>35</td>\n",
       "      <td>0.006352</td>\n",
       "    </tr>\n",
       "    <tr>\n",
       "      <th>7</th>\n",
       "      <td>7</td>\n",
       "      <td>39</td>\n",
       "      <td>0.007078</td>\n",
       "    </tr>\n",
       "    <tr>\n",
       "      <th>6</th>\n",
       "      <td>6</td>\n",
       "      <td>63</td>\n",
       "      <td>0.011434</td>\n",
       "    </tr>\n",
       "    <tr>\n",
       "      <th>5</th>\n",
       "      <td>5</td>\n",
       "      <td>115</td>\n",
       "      <td>0.020871</td>\n",
       "    </tr>\n",
       "    <tr>\n",
       "      <th>4</th>\n",
       "      <td>4</td>\n",
       "      <td>118</td>\n",
       "      <td>0.021416</td>\n",
       "    </tr>\n",
       "    <tr>\n",
       "      <th>3</th>\n",
       "      <td>3</td>\n",
       "      <td>239</td>\n",
       "      <td>0.043376</td>\n",
       "    </tr>\n",
       "    <tr>\n",
       "      <th>2</th>\n",
       "      <td>2</td>\n",
       "      <td>662</td>\n",
       "      <td>0.120145</td>\n",
       "    </tr>\n",
       "    <tr>\n",
       "      <th>1</th>\n",
       "      <td>1</td>\n",
       "      <td>3563</td>\n",
       "      <td>0.646642</td>\n",
       "    </tr>\n",
       "  </tbody>\n",
       "</table>\n",
       "</div>"
      ],
      "text/plain": [
       "   index  freq  proportion\n",
       "10    10   120    0.021779\n",
       "9      9    30    0.005445\n",
       "8      8    35    0.006352\n",
       "7      7    39    0.007078\n",
       "6      6    63    0.011434\n",
       "5      5   115    0.020871\n",
       "4      4   118    0.021416\n",
       "3      3   239    0.043376\n",
       "2      2   662    0.120145\n",
       "1      1  3563    0.646642"
      ]
     },
     "execution_count": 63,
     "metadata": {},
     "output_type": "execute_result"
    }
   ],
   "source": [
    "writer_cnt_df.tail(10)"
   ]
  }
 ],
 "metadata": {
  "kernelspec": {
   "display_name": "Python 3 (ipykernel)",
   "language": "python",
   "name": "python3"
  },
  "language_info": {
   "codemirror_mode": {
    "name": "ipython",
    "version": 3
   },
   "file_extension": ".py",
   "mimetype": "text/x-python",
   "name": "python",
   "nbconvert_exporter": "python",
   "pygments_lexer": "ipython3",
   "version": "3.8.18"
  }
 },
 "nbformat": 4,
 "nbformat_minor": 5
}
